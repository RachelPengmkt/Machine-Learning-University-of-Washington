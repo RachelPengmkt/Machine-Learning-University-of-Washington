{
 "cells": [
  {
   "cell_type": "markdown",
   "metadata": {},
   "source": [
    "#Document retrieval from wikipedia data\n",
    "\n",
    "#Fire up GraphLab Create"
   ]
  },
  {
   "cell_type": "code",
   "execution_count": 1,
   "metadata": {
    "collapsed": true
   },
   "outputs": [],
   "source": [
    "import pandas as pd"
   ]
  },
  {
   "cell_type": "markdown",
   "metadata": {},
   "source": [
    "#Load some text data - from wikipedia, pages on people"
   ]
  },
  {
   "cell_type": "code",
   "execution_count": 2,
   "metadata": {
    "collapsed": true
   },
   "outputs": [],
   "source": [
    "people = pd.read_csv('people_wiki.csv')"
   ]
  },
  {
   "cell_type": "markdown",
   "metadata": {},
   "source": [
    "Data contains:  link to wikipedia article, name of person, text of article."
   ]
  },
  {
   "cell_type": "code",
   "execution_count": 3,
   "metadata": {},
   "outputs": [
    {
     "data": {
      "text/html": [
       "<div>\n",
       "<style scoped>\n",
       "    .dataframe tbody tr th:only-of-type {\n",
       "        vertical-align: middle;\n",
       "    }\n",
       "\n",
       "    .dataframe tbody tr th {\n",
       "        vertical-align: top;\n",
       "    }\n",
       "\n",
       "    .dataframe thead th {\n",
       "        text-align: right;\n",
       "    }\n",
       "</style>\n",
       "<table border=\"1\" class=\"dataframe\">\n",
       "  <thead>\n",
       "    <tr style=\"text-align: right;\">\n",
       "      <th></th>\n",
       "      <th>URI</th>\n",
       "      <th>name</th>\n",
       "      <th>text</th>\n",
       "    </tr>\n",
       "  </thead>\n",
       "  <tbody>\n",
       "    <tr>\n",
       "      <td>0</td>\n",
       "      <td>&lt;http://dbpedia.org/resource/Digby_Morrell&gt;</td>\n",
       "      <td>Digby Morrell</td>\n",
       "      <td>digby morrell born 10 october 1979 is a former...</td>\n",
       "    </tr>\n",
       "    <tr>\n",
       "      <td>1</td>\n",
       "      <td>&lt;http://dbpedia.org/resource/Alfred_J._Lewy&gt;</td>\n",
       "      <td>Alfred J. Lewy</td>\n",
       "      <td>alfred j lewy aka sandy lewy graduated from un...</td>\n",
       "    </tr>\n",
       "    <tr>\n",
       "      <td>2</td>\n",
       "      <td>&lt;http://dbpedia.org/resource/Harpdog_Brown&gt;</td>\n",
       "      <td>Harpdog Brown</td>\n",
       "      <td>harpdog brown is a singer and harmonica player...</td>\n",
       "    </tr>\n",
       "    <tr>\n",
       "      <td>3</td>\n",
       "      <td>&lt;http://dbpedia.org/resource/Franz_Rottensteiner&gt;</td>\n",
       "      <td>Franz Rottensteiner</td>\n",
       "      <td>franz rottensteiner born in waidmannsfeld lowe...</td>\n",
       "    </tr>\n",
       "    <tr>\n",
       "      <td>4</td>\n",
       "      <td>&lt;http://dbpedia.org/resource/G-Enka&gt;</td>\n",
       "      <td>G-Enka</td>\n",
       "      <td>henry krvits born 30 december 1974 in tallinn ...</td>\n",
       "    </tr>\n",
       "  </tbody>\n",
       "</table>\n",
       "</div>"
      ],
      "text/plain": [
       "                                                 URI                 name  \\\n",
       "0        <http://dbpedia.org/resource/Digby_Morrell>        Digby Morrell   \n",
       "1       <http://dbpedia.org/resource/Alfred_J._Lewy>       Alfred J. Lewy   \n",
       "2        <http://dbpedia.org/resource/Harpdog_Brown>        Harpdog Brown   \n",
       "3  <http://dbpedia.org/resource/Franz_Rottensteiner>  Franz Rottensteiner   \n",
       "4               <http://dbpedia.org/resource/G-Enka>               G-Enka   \n",
       "\n",
       "                                                text  \n",
       "0  digby morrell born 10 october 1979 is a former...  \n",
       "1  alfred j lewy aka sandy lewy graduated from un...  \n",
       "2  harpdog brown is a singer and harmonica player...  \n",
       "3  franz rottensteiner born in waidmannsfeld lowe...  \n",
       "4  henry krvits born 30 december 1974 in tallinn ...  "
      ]
     },
     "execution_count": 3,
     "metadata": {},
     "output_type": "execute_result"
    }
   ],
   "source": [
    "people.head()"
   ]
  },
  {
   "cell_type": "code",
   "execution_count": 4,
   "metadata": {},
   "outputs": [
    {
     "data": {
      "text/plain": [
       "59071"
      ]
     },
     "execution_count": 4,
     "metadata": {},
     "output_type": "execute_result"
    }
   ],
   "source": [
    "len(people)"
   ]
  },
  {
   "cell_type": "markdown",
   "metadata": {},
   "source": [
    "#Explore the dataset and checkout the text it contains\n",
    "\n",
    "##Exploring the entry for president Obama"
   ]
  },
  {
   "cell_type": "code",
   "execution_count": 5,
   "metadata": {
    "collapsed": true
   },
   "outputs": [],
   "source": [
    "obama = people[people['name'] == 'Barack Obama']"
   ]
  },
  {
   "cell_type": "code",
   "execution_count": 6,
   "metadata": {},
   "outputs": [
    {
     "data": {
      "text/html": [
       "<div>\n",
       "<style scoped>\n",
       "    .dataframe tbody tr th:only-of-type {\n",
       "        vertical-align: middle;\n",
       "    }\n",
       "\n",
       "    .dataframe tbody tr th {\n",
       "        vertical-align: top;\n",
       "    }\n",
       "\n",
       "    .dataframe thead th {\n",
       "        text-align: right;\n",
       "    }\n",
       "</style>\n",
       "<table border=\"1\" class=\"dataframe\">\n",
       "  <thead>\n",
       "    <tr style=\"text-align: right;\">\n",
       "      <th></th>\n",
       "      <th>URI</th>\n",
       "      <th>name</th>\n",
       "      <th>text</th>\n",
       "    </tr>\n",
       "  </thead>\n",
       "  <tbody>\n",
       "    <tr>\n",
       "      <td>35817</td>\n",
       "      <td>&lt;http://dbpedia.org/resource/Barack_Obama&gt;</td>\n",
       "      <td>Barack Obama</td>\n",
       "      <td>barack hussein obama ii brk husen bm born augu...</td>\n",
       "    </tr>\n",
       "  </tbody>\n",
       "</table>\n",
       "</div>"
      ],
      "text/plain": [
       "                                              URI          name  \\\n",
       "35817  <http://dbpedia.org/resource/Barack_Obama>  Barack Obama   \n",
       "\n",
       "                                                    text  \n",
       "35817  barack hussein obama ii brk husen bm born augu...  "
      ]
     },
     "execution_count": 6,
     "metadata": {},
     "output_type": "execute_result"
    }
   ],
   "source": [
    "obama"
   ]
  },
  {
   "cell_type": "code",
   "execution_count": 7,
   "metadata": {},
   "outputs": [
    {
     "data": {
      "text/plain": [
       "35817    barack hussein obama ii brk husen bm born augu...\n",
       "Name: text, dtype: object"
      ]
     },
     "execution_count": 7,
     "metadata": {},
     "output_type": "execute_result"
    }
   ],
   "source": [
    "obama['text']"
   ]
  },
  {
   "cell_type": "markdown",
   "metadata": {},
   "source": [
    "##Exploring the entry for actor George Clooney"
   ]
  },
  {
   "cell_type": "code",
   "execution_count": 8,
   "metadata": {},
   "outputs": [
    {
     "data": {
      "text/plain": [
       "38514    george timothy clooney born may 6 1961 is an a...\n",
       "Name: text, dtype: object"
      ]
     },
     "execution_count": 8,
     "metadata": {},
     "output_type": "execute_result"
    }
   ],
   "source": [
    "clooney = people[people['name'] == 'George Clooney']\n",
    "clooney['text']"
   ]
  },
  {
   "cell_type": "code",
   "execution_count": 9,
   "metadata": {},
   "outputs": [
    {
     "data": {
      "text/plain": [
       "19923    sir elton hercules john cbe born reginald kenn...\n",
       "Name: text, dtype: object"
      ]
     },
     "execution_count": 9,
     "metadata": {},
     "output_type": "execute_result"
    }
   ],
   "source": [
    "John = people[people['name'] == 'Elton John']\n",
    "John['text']"
   ]
  },
  {
   "cell_type": "code",
   "execution_count": 10,
   "metadata": {
    "collapsed": true
   },
   "outputs": [],
   "source": [
    "from sklearn.feature_extraction.text import CountVectorizer\n",
    "vectorizer = CountVectorizer()\n",
    "x_John = vectorizer.fit_transform(John['text'])"
   ]
  },
  {
   "cell_type": "code",
   "execution_count": 11,
   "metadata": {},
   "outputs": [
    {
     "name": "stdout",
     "output_type": "stream",
     "text": [
      "['10', '100', '1947', '1967', '19702000', '1976', '1980s', '1988', '1992', '1994', '1996', '1997', '1998', '200', '2002', '2004', '2005', '2008', '2012he', '2013', '2014', '21', '25', '27', '30', '300', '31', '33', '40', '49', '58', 'abbey', 'about', 'academy', 'actor', 'after', 'against', 'aids', 'albums', 'all', 'alltime', 'an', 'and', 'announced', 'annual', 'artist', 'artists', 'as', 'at', 'authors', 'award', 'awards', 'be', 'became', 'become', 'been', 'began', 'bernie', 'bestselling', 'billboard', 'bisexual', 'born', 'brit', 'british', 'brits', 'buckingham', 'career', 'cbe', 'center', 'champion', 'charitable', 'civil', 'collaborated', 'commander', 'composer', 'composers', 'concert', 'consecutive', 'continues', 'contribution', 'copies', 'culture', 'datein', 'david', 'december', 'diamond', 'diana', 'disney', 'dwight', 'elizabeth', 'elton', 'empire', 'england', 'english', 'entered', 'era', 'established', 'events', 'fame', 'fellow', 'fifty', 'fight', 'film', 'first', 'five', 'fivedecade', 'for', 'foundation', 'four', 'from', 'funeral', 'furnish', 'gay', 'globe', 'golden', 'grammy', 'had', 'hall', 'has', 'have', 'having', 'he', 'heavily', 'hercules', 'highestprofile', 'him', 'his', 'hits', 'hollywood', 'honors', 'hosting', 'hot', 'icon', 'ii', 'impact', 'in', 'inception', 'including', 'inducted', 'inductee', 'industry', 'influential', 'into', 'involved', 'is', 'its', 'john', 'jubilee', 'kennedy', 'kenneth', 'knighthood', 'lasting', 'late', 'later', 'least', 'legal', 'legend', 'lgbt', 'list', 'look', 'lyricist', 'making', 'male', 'march', 'marriage', 'million', 'more', 'most', 'movements', 'music', 'musicians', 'named', 'nine', 'no', 'number', 'occasional', 'of', 'on', 'one', 'openly', 'order', 'oscar', 'outside', 'outstanding', 'over', 'overallelton', 'palace', 'parties', 'partner', 'partnership', 'party', 'performed', 'pianist', 'princess', 'producer', 'queens', 'raised', 'ranked', 'received', 'record', 'records', 'reginald', 'rock', 'roll', 'rolling', 'royal', 'samesex', 'services', 'seven', 'since', 'singer', 'single', 'singles', 'sir', 'six', 'social', 'sold', 'solo', 'something', 'song', 'songwriter', 'songwriters', 'stone', 'successful', 'such', 'taupin', 'than', 'the', 'they', 'third', 'time', 'to', 'tonightcandle', 'tony', 'top', 'two', 'us', 'was', 'way', 'wed', 'westminster', 'which', 'who', 'wind', 'winning', 'with', 'worked', 'world', 'worldwide', 'year', 'years', 'you']\n",
      "[[ 1  3  1  1  1  1  1  1  1  1  1  2  1  1  1  2  1  1  1  1  1  2  1  1\n",
      "   1  1  1  1  2  1  1  1  1  3  1  1  1  2  2  1  1  3 15  1  1  1  2  2\n",
      "   4  1  5  3  1  1  1  3  1  1  2  4  1  1  1  3  1  1  1  1  1  1  1  1\n",
      "   1  1  1  1  1  2  1  1  1  1  1  1  2  1  1  1  1  1  3  1  1  1  1  1\n",
      "   1  1  2  1  1  1  1  1  1  1  5  2  1  1  1  2  2  1  1  1  1  2  9  1\n",
      "   1  7  1  1  1  3  4  1  1  1  1  2  1  1  1 18  1  1  1  1  1  1  3  1\n",
      "   4  2  7  1  1  1  1  1  1  1  1  1  1  1  1  1  1  1  1  1  2  3  3  1\n",
      "   1  3  1  1  1  3  2  1 13  6  3  1  1  1  1  1  2  1  2  1  1  1  2  1\n",
      "   1  1  1  1  1  2  2  1  1  1  2  2  1  1  1  2  1  5  1  2  1  1  1  1\n",
      "   2  1  1  1  2  2  1  1  1  1  3 27  1  1  1  4  1  1  4  1  1  2  1  1\n",
      "   1  1  1  1  1  2  1  1  2  1  1  1]]\n"
     ]
    }
   ],
   "source": [
    "print(vectorizer.get_feature_names())\n",
    "print(x_John.toarray())  "
   ]
  },
  {
   "cell_type": "code",
   "execution_count": 12,
   "metadata": {
    "collapsed": true
   },
   "outputs": [],
   "source": [
    "word_John = vectorizer.get_feature_names()"
   ]
  },
  {
   "cell_type": "code",
   "execution_count": 13,
   "metadata": {},
   "outputs": [
    {
     "data": {
      "text/plain": [
       "[[1,\n",
       "  3,\n",
       "  1,\n",
       "  1,\n",
       "  1,\n",
       "  1,\n",
       "  1,\n",
       "  1,\n",
       "  1,\n",
       "  1,\n",
       "  1,\n",
       "  2,\n",
       "  1,\n",
       "  1,\n",
       "  1,\n",
       "  2,\n",
       "  1,\n",
       "  1,\n",
       "  1,\n",
       "  1,\n",
       "  1,\n",
       "  2,\n",
       "  1,\n",
       "  1,\n",
       "  1,\n",
       "  1,\n",
       "  1,\n",
       "  1,\n",
       "  2,\n",
       "  1,\n",
       "  1,\n",
       "  1,\n",
       "  1,\n",
       "  3,\n",
       "  1,\n",
       "  1,\n",
       "  1,\n",
       "  2,\n",
       "  2,\n",
       "  1,\n",
       "  1,\n",
       "  3,\n",
       "  15,\n",
       "  1,\n",
       "  1,\n",
       "  1,\n",
       "  2,\n",
       "  2,\n",
       "  4,\n",
       "  1,\n",
       "  5,\n",
       "  3,\n",
       "  1,\n",
       "  1,\n",
       "  1,\n",
       "  3,\n",
       "  1,\n",
       "  1,\n",
       "  2,\n",
       "  4,\n",
       "  1,\n",
       "  1,\n",
       "  1,\n",
       "  3,\n",
       "  1,\n",
       "  1,\n",
       "  1,\n",
       "  1,\n",
       "  1,\n",
       "  1,\n",
       "  1,\n",
       "  1,\n",
       "  1,\n",
       "  1,\n",
       "  1,\n",
       "  1,\n",
       "  1,\n",
       "  2,\n",
       "  1,\n",
       "  1,\n",
       "  1,\n",
       "  1,\n",
       "  1,\n",
       "  1,\n",
       "  2,\n",
       "  1,\n",
       "  1,\n",
       "  1,\n",
       "  1,\n",
       "  1,\n",
       "  3,\n",
       "  1,\n",
       "  1,\n",
       "  1,\n",
       "  1,\n",
       "  1,\n",
       "  1,\n",
       "  1,\n",
       "  2,\n",
       "  1,\n",
       "  1,\n",
       "  1,\n",
       "  1,\n",
       "  1,\n",
       "  1,\n",
       "  1,\n",
       "  5,\n",
       "  2,\n",
       "  1,\n",
       "  1,\n",
       "  1,\n",
       "  2,\n",
       "  2,\n",
       "  1,\n",
       "  1,\n",
       "  1,\n",
       "  1,\n",
       "  2,\n",
       "  9,\n",
       "  1,\n",
       "  1,\n",
       "  7,\n",
       "  1,\n",
       "  1,\n",
       "  1,\n",
       "  3,\n",
       "  4,\n",
       "  1,\n",
       "  1,\n",
       "  1,\n",
       "  1,\n",
       "  2,\n",
       "  1,\n",
       "  1,\n",
       "  1,\n",
       "  18,\n",
       "  1,\n",
       "  1,\n",
       "  1,\n",
       "  1,\n",
       "  1,\n",
       "  1,\n",
       "  3,\n",
       "  1,\n",
       "  4,\n",
       "  2,\n",
       "  7,\n",
       "  1,\n",
       "  1,\n",
       "  1,\n",
       "  1,\n",
       "  1,\n",
       "  1,\n",
       "  1,\n",
       "  1,\n",
       "  1,\n",
       "  1,\n",
       "  1,\n",
       "  1,\n",
       "  1,\n",
       "  1,\n",
       "  1,\n",
       "  1,\n",
       "  1,\n",
       "  2,\n",
       "  3,\n",
       "  3,\n",
       "  1,\n",
       "  1,\n",
       "  3,\n",
       "  1,\n",
       "  1,\n",
       "  1,\n",
       "  3,\n",
       "  2,\n",
       "  1,\n",
       "  13,\n",
       "  6,\n",
       "  3,\n",
       "  1,\n",
       "  1,\n",
       "  1,\n",
       "  1,\n",
       "  1,\n",
       "  2,\n",
       "  1,\n",
       "  2,\n",
       "  1,\n",
       "  1,\n",
       "  1,\n",
       "  2,\n",
       "  1,\n",
       "  1,\n",
       "  1,\n",
       "  1,\n",
       "  1,\n",
       "  1,\n",
       "  2,\n",
       "  2,\n",
       "  1,\n",
       "  1,\n",
       "  1,\n",
       "  2,\n",
       "  2,\n",
       "  1,\n",
       "  1,\n",
       "  1,\n",
       "  2,\n",
       "  1,\n",
       "  5,\n",
       "  1,\n",
       "  2,\n",
       "  1,\n",
       "  1,\n",
       "  1,\n",
       "  1,\n",
       "  2,\n",
       "  1,\n",
       "  1,\n",
       "  1,\n",
       "  2,\n",
       "  2,\n",
       "  1,\n",
       "  1,\n",
       "  1,\n",
       "  1,\n",
       "  3,\n",
       "  27,\n",
       "  1,\n",
       "  1,\n",
       "  1,\n",
       "  4,\n",
       "  1,\n",
       "  1,\n",
       "  4,\n",
       "  1,\n",
       "  1,\n",
       "  2,\n",
       "  1,\n",
       "  1,\n",
       "  1,\n",
       "  1,\n",
       "  1,\n",
       "  1,\n",
       "  1,\n",
       "  2,\n",
       "  1,\n",
       "  1,\n",
       "  2,\n",
       "  1,\n",
       "  1,\n",
       "  1]]"
      ]
     },
     "execution_count": 13,
     "metadata": {},
     "output_type": "execute_result"
    }
   ],
   "source": [
    "word_count = x_John.toarray().tolist()\n",
    "word_count"
   ]
  },
  {
   "cell_type": "code",
   "execution_count": 14,
   "metadata": {},
   "outputs": [
    {
     "data": {
      "text/plain": [
       "[1,\n",
       " 3,\n",
       " 1,\n",
       " 1,\n",
       " 1,\n",
       " 1,\n",
       " 1,\n",
       " 1,\n",
       " 1,\n",
       " 1,\n",
       " 1,\n",
       " 2,\n",
       " 1,\n",
       " 1,\n",
       " 1,\n",
       " 2,\n",
       " 1,\n",
       " 1,\n",
       " 1,\n",
       " 1,\n",
       " 1,\n",
       " 2,\n",
       " 1,\n",
       " 1,\n",
       " 1,\n",
       " 1,\n",
       " 1,\n",
       " 1,\n",
       " 2,\n",
       " 1,\n",
       " 1,\n",
       " 1,\n",
       " 1,\n",
       " 3,\n",
       " 1,\n",
       " 1,\n",
       " 1,\n",
       " 2,\n",
       " 2,\n",
       " 1,\n",
       " 1,\n",
       " 3,\n",
       " 15,\n",
       " 1,\n",
       " 1,\n",
       " 1,\n",
       " 2,\n",
       " 2,\n",
       " 4,\n",
       " 1,\n",
       " 5,\n",
       " 3,\n",
       " 1,\n",
       " 1,\n",
       " 1,\n",
       " 3,\n",
       " 1,\n",
       " 1,\n",
       " 2,\n",
       " 4,\n",
       " 1,\n",
       " 1,\n",
       " 1,\n",
       " 3,\n",
       " 1,\n",
       " 1,\n",
       " 1,\n",
       " 1,\n",
       " 1,\n",
       " 1,\n",
       " 1,\n",
       " 1,\n",
       " 1,\n",
       " 1,\n",
       " 1,\n",
       " 1,\n",
       " 1,\n",
       " 2,\n",
       " 1,\n",
       " 1,\n",
       " 1,\n",
       " 1,\n",
       " 1,\n",
       " 1,\n",
       " 2,\n",
       " 1,\n",
       " 1,\n",
       " 1,\n",
       " 1,\n",
       " 1,\n",
       " 3,\n",
       " 1,\n",
       " 1,\n",
       " 1,\n",
       " 1,\n",
       " 1,\n",
       " 1,\n",
       " 1,\n",
       " 2,\n",
       " 1,\n",
       " 1,\n",
       " 1,\n",
       " 1,\n",
       " 1,\n",
       " 1,\n",
       " 1,\n",
       " 5,\n",
       " 2,\n",
       " 1,\n",
       " 1,\n",
       " 1,\n",
       " 2,\n",
       " 2,\n",
       " 1,\n",
       " 1,\n",
       " 1,\n",
       " 1,\n",
       " 2,\n",
       " 9,\n",
       " 1,\n",
       " 1,\n",
       " 7,\n",
       " 1,\n",
       " 1,\n",
       " 1,\n",
       " 3,\n",
       " 4,\n",
       " 1,\n",
       " 1,\n",
       " 1,\n",
       " 1,\n",
       " 2,\n",
       " 1,\n",
       " 1,\n",
       " 1,\n",
       " 18,\n",
       " 1,\n",
       " 1,\n",
       " 1,\n",
       " 1,\n",
       " 1,\n",
       " 1,\n",
       " 3,\n",
       " 1,\n",
       " 4,\n",
       " 2,\n",
       " 7,\n",
       " 1,\n",
       " 1,\n",
       " 1,\n",
       " 1,\n",
       " 1,\n",
       " 1,\n",
       " 1,\n",
       " 1,\n",
       " 1,\n",
       " 1,\n",
       " 1,\n",
       " 1,\n",
       " 1,\n",
       " 1,\n",
       " 1,\n",
       " 1,\n",
       " 1,\n",
       " 2,\n",
       " 3,\n",
       " 3,\n",
       " 1,\n",
       " 1,\n",
       " 3,\n",
       " 1,\n",
       " 1,\n",
       " 1,\n",
       " 3,\n",
       " 2,\n",
       " 1,\n",
       " 13,\n",
       " 6,\n",
       " 3,\n",
       " 1,\n",
       " 1,\n",
       " 1,\n",
       " 1,\n",
       " 1,\n",
       " 2,\n",
       " 1,\n",
       " 2,\n",
       " 1,\n",
       " 1,\n",
       " 1,\n",
       " 2,\n",
       " 1,\n",
       " 1,\n",
       " 1,\n",
       " 1,\n",
       " 1,\n",
       " 1,\n",
       " 2,\n",
       " 2,\n",
       " 1,\n",
       " 1,\n",
       " 1,\n",
       " 2,\n",
       " 2,\n",
       " 1,\n",
       " 1,\n",
       " 1,\n",
       " 2,\n",
       " 1,\n",
       " 5,\n",
       " 1,\n",
       " 2,\n",
       " 1,\n",
       " 1,\n",
       " 1,\n",
       " 1,\n",
       " 2,\n",
       " 1,\n",
       " 1,\n",
       " 1,\n",
       " 2,\n",
       " 2,\n",
       " 1,\n",
       " 1,\n",
       " 1,\n",
       " 1,\n",
       " 3,\n",
       " 27,\n",
       " 1,\n",
       " 1,\n",
       " 1,\n",
       " 4,\n",
       " 1,\n",
       " 1,\n",
       " 4,\n",
       " 1,\n",
       " 1,\n",
       " 2,\n",
       " 1,\n",
       " 1,\n",
       " 1,\n",
       " 1,\n",
       " 1,\n",
       " 1,\n",
       " 1,\n",
       " 2,\n",
       " 1,\n",
       " 1,\n",
       " 2,\n",
       " 1,\n",
       " 1,\n",
       " 1]"
      ]
     },
     "execution_count": 14,
     "metadata": {},
     "output_type": "execute_result"
    }
   ],
   "source": [
    "word_count_flat = [item for sublist in word_count for item in sublist]\n",
    "word_count_flat"
   ]
  },
  {
   "cell_type": "code",
   "execution_count": 15,
   "metadata": {},
   "outputs": [
    {
     "data": {
      "text/html": [
       "<div>\n",
       "<style scoped>\n",
       "    .dataframe tbody tr th:only-of-type {\n",
       "        vertical-align: middle;\n",
       "    }\n",
       "\n",
       "    .dataframe tbody tr th {\n",
       "        vertical-align: top;\n",
       "    }\n",
       "\n",
       "    .dataframe thead th {\n",
       "        text-align: right;\n",
       "    }\n",
       "</style>\n",
       "<table border=\"1\" class=\"dataframe\">\n",
       "  <thead>\n",
       "    <tr style=\"text-align: right;\">\n",
       "      <th></th>\n",
       "      <th>word_John</th>\n",
       "      <th>word_count</th>\n",
       "    </tr>\n",
       "  </thead>\n",
       "  <tbody>\n",
       "    <tr>\n",
       "      <td>227</td>\n",
       "      <td>the</td>\n",
       "      <td>27</td>\n",
       "    </tr>\n",
       "    <tr>\n",
       "      <td>135</td>\n",
       "      <td>in</td>\n",
       "      <td>18</td>\n",
       "    </tr>\n",
       "    <tr>\n",
       "      <td>42</td>\n",
       "      <td>and</td>\n",
       "      <td>15</td>\n",
       "    </tr>\n",
       "    <tr>\n",
       "      <td>176</td>\n",
       "      <td>of</td>\n",
       "      <td>13</td>\n",
       "    </tr>\n",
       "    <tr>\n",
       "      <td>118</td>\n",
       "      <td>has</td>\n",
       "      <td>9</td>\n",
       "    </tr>\n",
       "    <tr>\n",
       "      <td>...</td>\n",
       "      <td>...</td>\n",
       "      <td>...</td>\n",
       "    </tr>\n",
       "    <tr>\n",
       "      <td>97</td>\n",
       "      <td>events</td>\n",
       "      <td>1</td>\n",
       "    </tr>\n",
       "    <tr>\n",
       "      <td>99</td>\n",
       "      <td>fellow</td>\n",
       "      <td>1</td>\n",
       "    </tr>\n",
       "    <tr>\n",
       "      <td>100</td>\n",
       "      <td>fifty</td>\n",
       "      <td>1</td>\n",
       "    </tr>\n",
       "    <tr>\n",
       "      <td>101</td>\n",
       "      <td>fight</td>\n",
       "      <td>1</td>\n",
       "    </tr>\n",
       "    <tr>\n",
       "      <td>251</td>\n",
       "      <td>you</td>\n",
       "      <td>1</td>\n",
       "    </tr>\n",
       "  </tbody>\n",
       "</table>\n",
       "<p>252 rows × 2 columns</p>\n",
       "</div>"
      ],
      "text/plain": [
       "    word_John  word_count\n",
       "227       the          27\n",
       "135        in          18\n",
       "42        and          15\n",
       "176        of          13\n",
       "118       has           9\n",
       "..        ...         ...\n",
       "97     events           1\n",
       "99     fellow           1\n",
       "100     fifty           1\n",
       "101     fight           1\n",
       "251       you           1\n",
       "\n",
       "[252 rows x 2 columns]"
      ]
     },
     "execution_count": 15,
     "metadata": {},
     "output_type": "execute_result"
    }
   ],
   "source": [
    "word_count_John = pd.DataFrame({\n",
    "    'word_John':word_John,\n",
    "    'word_count':word_count_flat\n",
    "})\n",
    "word_count_John.sort_values(by='word_count', ascending = False)"
   ]
  },
  {
   "cell_type": "markdown",
   "metadata": {},
   "source": [
    "Now, take a particular famous person, 'Elton John'. What are the 3 words in his articles with highest word counts?"
   ]
  },
  {
   "cell_type": "code",
   "execution_count": 16,
   "metadata": {},
   "outputs": [
    {
     "name": "stdout",
     "output_type": "stream",
     "text": [
      "answer: the 3 words in his articles with highest word counts are the, in, and\n"
     ]
    }
   ],
   "source": [
    "print('answer: the 3 words in his articles with highest word counts are the, in, and')"
   ]
  },
  {
   "cell_type": "markdown",
   "metadata": {},
   "source": [
    "What are the 3 words in his articles with highest TF-IDF? These results illustrate why TF-IDF is useful for finding important words."
   ]
  },
  {
   "cell_type": "code",
   "execution_count": 17,
   "metadata": {
    "collapsed": true
   },
   "outputs": [],
   "source": [
    "from sklearn.feature_extraction.text import TfidfVectorizer\n",
    "\n",
    "vect = TfidfVectorizer()\n",
    "tfidf_matrix = vect.fit_transform(people['text'])"
   ]
  },
  {
   "cell_type": "code",
   "execution_count": 18,
   "metadata": {
    "collapsed": true
   },
   "outputs": [],
   "source": [
    "feature_names = vect.get_feature_names()"
   ]
  },
  {
   "cell_type": "code",
   "execution_count": 19,
   "metadata": {
    "collapsed": true
   },
   "outputs": [],
   "source": [
    "doc = 19923\n",
    "feature_index = tfidf_matrix[doc,:].nonzero()[1]\n",
    "tfidf_scores = zip(feature_index, [tfidf_matrix[doc, x] for x in feature_index])\n",
    "zip_tfidf = [(feature_names[i], s) for (i, s) in tfidf_scores]"
   ]
  },
  {
   "cell_type": "code",
   "execution_count": 20,
   "metadata": {
    "collapsed": true
   },
   "outputs": [],
   "source": [
    "word_J=[]\n",
    "iftdf_J=[]"
   ]
  },
  {
   "cell_type": "code",
   "execution_count": 21,
   "metadata": {},
   "outputs": [
    {
     "name": "stdout",
     "output_type": "stream",
     "text": [
      "born 0.0114446620388\n",
      "10 0.0299210128946\n",
      "is 0.0370944586439\n",
      "who 0.0172354295563\n",
      "with 0.0217030447694\n",
      "the 0.243683519642\n",
      "and 0.135466848611\n",
      "in 0.162595996979\n",
      "his 0.0455770540841\n",
      "for 0.0484096393012\n",
      "career 0.0208010726553\n",
      "he 0.0766491986164\n",
      "was 0.0194812295335\n",
      "at 0.0438699572157\n",
      "of 0.117804768048\n",
      "21 0.0685311083362\n",
      "to 0.0377921655163\n",
      "its 0.0485065094311\n",
      "third 0.0302359776449\n",
      "as 0.0203440133075\n",
      "five 0.0290007380745\n",
      "time 0.0209843212545\n",
      "first 0.0153016611804\n",
      "against 0.0271440546664\n",
      "2002 0.0259481204733\n",
      "david 0.0311439798616\n",
      "2005 0.0238471144667\n",
      "2008 0.0226454300697\n",
      "from 0.0116753120578\n",
      "2013 0.0266622403258\n",
      "since 0.110788984467\n",
      "2014 0.0289436170264\n",
      "has 0.116021248853\n",
      "after 0.0175465933049\n",
      "an 0.0351473228856\n",
      "worked 0.023047491549\n",
      "december 0.0541701725618\n",
      "had 0.0196496394066\n",
      "on 0.0641314931149\n",
      "be 0.0217144711825\n",
      "have 0.0220342443231\n",
      "later 0.0219238370418\n",
      "they 0.026163933793\n",
      "singer 0.0341263703744\n",
      "been 0.0535358730007\n",
      "years 0.0187279291486\n",
      "seven 0.0342155988848\n",
      "award 0.118768226902\n",
      "year 0.0211379736992\n",
      "which 0.0159498257088\n",
      "influential 0.0427576762986\n",
      "english 0.0292329079641\n",
      "about 0.0264091236941\n",
      "number 0.0563645284111\n",
      "into 0.0705255581215\n",
      "authors 0.0480057909197\n",
      "including 0.0200995167431\n",
      "us 0.0264596040898\n",
      "him 0.0697275440348\n",
      "one 0.0522780884735\n",
      "1998 0.0276928621776\n",
      "all 0.0238518529278\n",
      "fifty 0.0551787351268\n",
      "two 0.01894131184\n",
      "2004 0.048556130424\n",
      "30 0.0327264490317\n",
      "record 0.0284517466128\n",
      "1996 0.0282978808615\n",
      "making 0.0335924815337\n",
      "solo 0.0346388544815\n",
      "most 0.021826117241\n",
      "records 0.0331945660114\n",
      "1980s 0.035813738593\n",
      "1988 0.031128043511\n",
      "began 0.0246129810931\n",
      "awards 0.0889039352138\n",
      "than 0.0829772157932\n",
      "march 0.0266881632129\n",
      "music 0.0756075305184\n",
      "producer 0.032627728916\n",
      "artist 0.0309684706566\n",
      "film 0.0273710158312\n",
      "culture 0.0372935019118\n",
      "world 0.021393000956\n",
      "song 0.0349145110033\n",
      "collaborated 0.0429654414205\n",
      "rock 0.071169480515\n",
      "parties 0.0495825064343\n",
      "sold 0.078525363863\n",
      "over 0.0449011698105\n",
      "successful 0.0332012416859\n",
      "artists 0.0672361785734\n",
      "john 0.188957947089\n",
      "1947 0.0429195823076\n",
      "nine 0.038462580674\n",
      "four 0.026369359349\n",
      "raised 0.0366317312532\n",
      "received 0.0458367082721\n",
      "become 0.0315518190675\n",
      "more 0.0723857578453\n",
      "no 0.0919474674112\n",
      "27 0.0370925664957\n",
      "hits 0.0425797246393\n",
      "1997 0.05648748408\n",
      "roll 0.100705655519\n",
      "continues 0.0392018820941\n",
      "top 0.118180525485\n",
      "1994 0.0292157158988\n",
      "rolling 0.0526848379263\n",
      "stone 0.0481097198865\n",
      "named 0.0273430584611\n",
      "outstanding 0.0395594619155\n",
      "tony 0.0415462195388\n",
      "british 0.0876600325369\n",
      "civil 0.0390219023619\n",
      "1992 0.0295867939626\n",
      "entered 0.0391932297455\n",
      "party 0.0605329581332\n",
      "industry 0.0357073245333\n",
      "queens 0.0453239307098\n",
      "events 0.036657813349\n",
      "social 0.0326927208023\n",
      "order 0.0343309122172\n",
      "such 0.0249367218271\n",
      "way 0.035813738593\n",
      "musicians 0.0411348265733\n",
      "fellow 0.0303569823927\n",
      "england 0.0329077750479\n",
      "winning 0.0308287686199\n",
      "consecutive 0.0861157294959\n",
      "lasting 0.0622585696589\n",
      "inducted 0.0416990352127\n",
      "hall 0.0656098635649\n",
      "fame 0.0723184826476\n",
      "composer 0.0381606282338\n",
      "composers 0.0477790352996\n",
      "performed 0.031861149542\n",
      "center 0.0304829253001\n",
      "services 0.0725298001868\n",
      "became 0.0210269653643\n",
      "25 0.0338113083408\n",
      "six 0.0311670488321\n",
      "outside 0.0419831547567\n",
      "list 0.0372550480912\n",
      "31 0.0387543693248\n",
      "hollywood 0.0442326220517\n",
      "partner 0.0399271053761\n",
      "single 0.0701549194752\n",
      "golden 0.0416705400868\n",
      "royal 0.0343410094478\n",
      "academy 0.0908332274112\n",
      "songwriter 0.0843593374657\n",
      "disney 0.0514773873353\n",
      "you 0.0353247190095\n",
      "fight 0.0475906739115\n",
      "alltime 0.0486604508898\n",
      "foundation 0.0670367935519\n",
      "legal 0.0399224161586\n",
      "marriage 0.0923084863792\n",
      "globe 0.0464199649821\n",
      "involved 0.0331546153362\n",
      "100 0.107593287662\n",
      "1976 0.0335345509273\n",
      "look 0.0478464657419\n",
      "hot 0.0919932964876\n",
      "announced 0.033728330228\n",
      "late 0.0304500435043\n",
      "worldwide 0.0812887256437\n",
      "having 0.0311174348904\n",
      "inception 0.0576486754725\n",
      "lyricist 0.0599166371173\n",
      "albums 0.0725610860288\n",
      "commander 0.0460150466169\n",
      "1967 0.0362181333682\n",
      "honors 0.0433067830692\n",
      "ii 0.0388704403639\n",
      "wed 0.0712220698457\n",
      "concert 0.0406342116409\n",
      "billboard 0.192207335484\n",
      "male 0.0485256644227\n",
      "singles 0.0427448484373\n",
      "copies 0.0496236199399\n",
      "elizabeth 0.0455135621144\n",
      "legend 0.0492998399609\n",
      "40 0.0810465916902\n",
      "actor 0.0357161446014\n",
      "ranked 0.0869996514003\n",
      "sir 0.0447218059978\n",
      "elton 0.18468593871\n",
      "grammy 0.0458870388128\n",
      "million 0.108766582019\n",
      "partnership 0.0465558187136\n",
      "established 0.0367794333863\n",
      "pianist 0.0457877197636\n",
      "wind 0.0528797569267\n",
      "impact 0.0454874674489\n",
      "heavily 0.0503826605102\n",
      "empire 0.0483808848648\n",
      "kennedy 0.0476346418371\n",
      "something 0.04756877002\n",
      "33 0.051017026747\n",
      "champion 0.0376873303202\n",
      "oscar 0.052160451488\n",
      "occasional 0.0520699351938\n",
      "annual 0.0400119306376\n",
      "kenneth 0.0523071929143\n",
      "bestselling 0.100945510182\n",
      "200 0.0437829673211\n",
      "gay 0.0964062336552\n",
      "hosting 0.0523814682215\n",
      "lgbt 0.0594151526149\n",
      "cbe 0.0563728876011\n",
      "icon 0.0580240353927\n",
      "aids 0.110613485862\n",
      "diamond 0.0543765784189\n",
      "movements 0.0543998672032\n",
      "least 0.0473847027139\n",
      "era 0.0432320604838\n",
      "300 0.0501031539326\n",
      "bernie 0.0632590379172\n",
      "58 0.0580589460702\n",
      "charitable 0.0544700963426\n",
      "contribution 0.0450965189845\n",
      "westminster 0.0565783299437\n",
      "buckingham 0.0686259120736\n",
      "palace 0.106565397614\n",
      "jubilee 0.0599597130888\n",
      "knighthood 0.0720072952187\n",
      "49 0.0569417776739\n",
      "princess 0.0544700963426\n",
      "samesex 0.0622030347213\n",
      "inductee 0.0657520585795\n",
      "brit 0.0666121756593\n",
      "funeral 0.0623144484683\n",
      "openly 0.054636121504\n",
      "bisexual 0.069576727393\n",
      "abbey 0.0603569390202\n",
      "dwight 0.0670750668077\n",
      "2012he 0.0655894523987\n",
      "songwriters 0.119492720777\n",
      "diana 0.0576821612211\n",
      "reginald 0.0700925477188\n",
      "hercules 0.0748811487127\n",
      "datein 0.0820872006712\n",
      "furnish 0.18122079791\n",
      "highestprofile 0.087391621991\n",
      "brits 0.084355162316\n",
      "taupin 0.0936468586301\n",
      "fivedecade 0.0982567528165\n",
      "19702000 0.0982567528165\n",
      "tonightcandle 0.101915831684\n",
      "overallelton 0.101915831684\n"
     ]
    }
   ],
   "source": [
    "for w, s in zip_tfidf:\n",
    "    print (w, s)\n",
    "    word_J.append(w)\n",
    "    iftdf_J.append(s)"
   ]
  },
  {
   "cell_type": "code",
   "execution_count": 22,
   "metadata": {},
   "outputs": [
    {
     "data": {
      "text/html": [
       "<div>\n",
       "<style scoped>\n",
       "    .dataframe tbody tr th:only-of-type {\n",
       "        vertical-align: middle;\n",
       "    }\n",
       "\n",
       "    .dataframe tbody tr th {\n",
       "        vertical-align: top;\n",
       "    }\n",
       "\n",
       "    .dataframe thead th {\n",
       "        text-align: right;\n",
       "    }\n",
       "</style>\n",
       "<table border=\"1\" class=\"dataframe\">\n",
       "  <thead>\n",
       "    <tr style=\"text-align: right;\">\n",
       "      <th></th>\n",
       "      <th>word_John</th>\n",
       "      <th>iftdf_J</th>\n",
       "    </tr>\n",
       "  </thead>\n",
       "  <tbody>\n",
       "    <tr>\n",
       "      <td>5</td>\n",
       "      <td>the</td>\n",
       "      <td>0.243684</td>\n",
       "    </tr>\n",
       "    <tr>\n",
       "      <td>178</td>\n",
       "      <td>billboard</td>\n",
       "      <td>0.192207</td>\n",
       "    </tr>\n",
       "    <tr>\n",
       "      <td>92</td>\n",
       "      <td>john</td>\n",
       "      <td>0.188958</td>\n",
       "    </tr>\n",
       "    <tr>\n",
       "      <td>188</td>\n",
       "      <td>elton</td>\n",
       "      <td>0.184686</td>\n",
       "    </tr>\n",
       "    <tr>\n",
       "      <td>244</td>\n",
       "      <td>furnish</td>\n",
       "      <td>0.181221</td>\n",
       "    </tr>\n",
       "    <tr>\n",
       "      <td>...</td>\n",
       "      <td>...</td>\n",
       "      <td>...</td>\n",
       "    </tr>\n",
       "    <tr>\n",
       "      <td>3</td>\n",
       "      <td>who</td>\n",
       "      <td>0.017235</td>\n",
       "    </tr>\n",
       "    <tr>\n",
       "      <td>49</td>\n",
       "      <td>which</td>\n",
       "      <td>0.015950</td>\n",
       "    </tr>\n",
       "    <tr>\n",
       "      <td>22</td>\n",
       "      <td>first</td>\n",
       "      <td>0.015302</td>\n",
       "    </tr>\n",
       "    <tr>\n",
       "      <td>28</td>\n",
       "      <td>from</td>\n",
       "      <td>0.011675</td>\n",
       "    </tr>\n",
       "    <tr>\n",
       "      <td>0</td>\n",
       "      <td>born</td>\n",
       "      <td>0.011445</td>\n",
       "    </tr>\n",
       "  </tbody>\n",
       "</table>\n",
       "<p>252 rows × 2 columns</p>\n",
       "</div>"
      ],
      "text/plain": [
       "     word_John   iftdf_J\n",
       "5          the  0.243684\n",
       "178  billboard  0.192207\n",
       "92        john  0.188958\n",
       "188      elton  0.184686\n",
       "244    furnish  0.181221\n",
       "..         ...       ...\n",
       "3          who  0.017235\n",
       "49       which  0.015950\n",
       "22       first  0.015302\n",
       "28        from  0.011675\n",
       "0         born  0.011445\n",
       "\n",
       "[252 rows x 2 columns]"
      ]
     },
     "execution_count": 22,
     "metadata": {},
     "output_type": "execute_result"
    }
   ],
   "source": [
    "tfidf_John=pd.DataFrame({\n",
    "    'word_John':word_J,\n",
    "    'iftdf_J':iftdf_J\n",
    "})\n",
    "tfidf_John.sort_values(by='iftdf_J', ascending=False)"
   ]
  },
  {
   "cell_type": "code",
   "execution_count": 23,
   "metadata": {},
   "outputs": [
    {
     "name": "stdout",
     "output_type": "stream",
     "text": [
      "answer: the 3 words in his articles with highest TF-IDF are the, billboard, john\n"
     ]
    }
   ],
   "source": [
    "print('answer: the 3 words in his articles with highest TF-IDF are the, billboard, john')"
   ]
  },
  {
   "cell_type": "markdown",
   "metadata": {},
   "source": [
    "What’s the cosine distance between the articles on ‘Elton John’ and ‘Victoria Beckham’?"
   ]
  },
  {
   "cell_type": "code",
   "execution_count": 24,
   "metadata": {},
   "outputs": [
    {
     "name": "stdout",
     "output_type": "stream",
     "text": [
      "(59071, 548429)\n"
     ]
    }
   ],
   "source": [
    "tfidf_vectorizer = TfidfVectorizer()\n",
    "tfidf_matrix = tfidf_vectorizer.fit_transform(people['text'])\n",
    "print (tfidf_matrix.shape)"
   ]
  },
  {
   "cell_type": "code",
   "execution_count": 25,
   "metadata": {},
   "outputs": [
    {
     "data": {
      "text/plain": [
       "<59071x548429 sparse matrix of type '<class 'numpy.float64'>'\n",
       "\twith 10244028 stored elements in Compressed Sparse Row format>"
      ]
     },
     "execution_count": 25,
     "metadata": {},
     "output_type": "execute_result"
    }
   ],
   "source": [
    "tfidf_matrix"
   ]
  },
  {
   "cell_type": "code",
   "execution_count": 26,
   "metadata": {},
   "outputs": [
    {
     "data": {
      "text/plain": [
       "(59071, 3)"
      ]
     },
     "execution_count": 26,
     "metadata": {},
     "output_type": "execute_result"
    }
   ],
   "source": [
    "people.shape"
   ]
  },
  {
   "cell_type": "code",
   "execution_count": 27,
   "metadata": {},
   "outputs": [
    {
     "data": {
      "text/html": [
       "<div>\n",
       "<style scoped>\n",
       "    .dataframe tbody tr th:only-of-type {\n",
       "        vertical-align: middle;\n",
       "    }\n",
       "\n",
       "    .dataframe tbody tr th {\n",
       "        vertical-align: top;\n",
       "    }\n",
       "\n",
       "    .dataframe thead th {\n",
       "        text-align: right;\n",
       "    }\n",
       "</style>\n",
       "<table border=\"1\" class=\"dataframe\">\n",
       "  <thead>\n",
       "    <tr style=\"text-align: right;\">\n",
       "      <th></th>\n",
       "      <th>URI</th>\n",
       "      <th>name</th>\n",
       "      <th>text</th>\n",
       "    </tr>\n",
       "  </thead>\n",
       "  <tbody>\n",
       "    <tr>\n",
       "      <td>19923</td>\n",
       "      <td>&lt;http://dbpedia.org/resource/Elton_John&gt;</td>\n",
       "      <td>Elton John</td>\n",
       "      <td>sir elton hercules john cbe born reginald kenn...</td>\n",
       "    </tr>\n",
       "  </tbody>\n",
       "</table>\n",
       "</div>"
      ],
      "text/plain": [
       "                                            URI        name  \\\n",
       "19923  <http://dbpedia.org/resource/Elton_John>  Elton John   \n",
       "\n",
       "                                                    text  \n",
       "19923  sir elton hercules john cbe born reginald kenn...  "
      ]
     },
     "execution_count": 27,
     "metadata": {},
     "output_type": "execute_result"
    }
   ],
   "source": [
    "people[people['name']=='Elton John']"
   ]
  },
  {
   "cell_type": "code",
   "execution_count": 28,
   "metadata": {},
   "outputs": [
    {
     "data": {
      "text/html": [
       "<div>\n",
       "<style scoped>\n",
       "    .dataframe tbody tr th:only-of-type {\n",
       "        vertical-align: middle;\n",
       "    }\n",
       "\n",
       "    .dataframe tbody tr th {\n",
       "        vertical-align: top;\n",
       "    }\n",
       "\n",
       "    .dataframe thead th {\n",
       "        text-align: right;\n",
       "    }\n",
       "</style>\n",
       "<table border=\"1\" class=\"dataframe\">\n",
       "  <thead>\n",
       "    <tr style=\"text-align: right;\">\n",
       "      <th></th>\n",
       "      <th>URI</th>\n",
       "      <th>name</th>\n",
       "      <th>text</th>\n",
       "    </tr>\n",
       "  </thead>\n",
       "  <tbody>\n",
       "    <tr>\n",
       "      <td>50411</td>\n",
       "      <td>&lt;http://dbpedia.org/resource/Victoria_Beckham&gt;</td>\n",
       "      <td>Victoria Beckham</td>\n",
       "      <td>victoria caroline beckham ne adams born 17 apr...</td>\n",
       "    </tr>\n",
       "  </tbody>\n",
       "</table>\n",
       "</div>"
      ],
      "text/plain": [
       "                                                  URI              name  \\\n",
       "50411  <http://dbpedia.org/resource/Victoria_Beckham>  Victoria Beckham   \n",
       "\n",
       "                                                    text  \n",
       "50411  victoria caroline beckham ne adams born 17 apr...  "
      ]
     },
     "execution_count": 28,
     "metadata": {},
     "output_type": "execute_result"
    }
   ],
   "source": [
    "people[people['name']=='Victoria Beckham']"
   ]
  },
  {
   "cell_type": "code",
   "execution_count": 29,
   "metadata": {},
   "outputs": [
    {
     "data": {
      "text/plain": [
       "Int64Index([19923], dtype='int64')"
      ]
     },
     "execution_count": 29,
     "metadata": {},
     "output_type": "execute_result"
    }
   ],
   "source": [
    "John_id = people[people['name'] == 'Elton John'].index\n",
    "Beckham_id = people[people['name'] == 'Victoria Beckham'].index\n",
    "John_id"
   ]
  },
  {
   "cell_type": "code",
   "execution_count": 30,
   "metadata": {
    "collapsed": true
   },
   "outputs": [],
   "source": [
    "def norm(x):\n",
    "    sum_sq=x.dot(x.T)\n",
    "    norm=np.sqrt(sum_sq)\n",
    "    return(norm)"
   ]
  },
  {
   "cell_type": "code",
   "execution_count": 31,
   "metadata": {},
   "outputs": [
    {
     "name": "stdout",
     "output_type": "stream",
     "text": [
      "================= Cosine distance from John\n",
      "answer:cosine distance between the articles on ‘Elton John’ and ‘Victoria Beckham’ 0.851921181383\n"
     ]
    }
   ],
   "source": [
    "import numpy as np\n",
    "def cosine_distance(x, y):\n",
    "    xy = x.dot(y.T)\n",
    "    dist = xy/(norm(x)*norm(y))\n",
    "    return 1-dist[0,0]\n",
    "\n",
    "John_tf_idf = tfidf_matrix[19923,:]\n",
    "Beckham_tf_idf = tfidf_matrix[50411,:]\n",
    "\n",
    "\n",
    "print ('================= Cosine distance from John')\n",
    "print ('answer:cosine distance between the articles on ‘Elton John’ and ‘Victoria Beckham’',cosine_distance(John_tf_idf, Beckham_tf_idf))"
   ]
  },
  {
   "cell_type": "markdown",
   "metadata": {},
   "source": [
    "What’s the cosine distance between the articles on ‘Elton John’ and Paul McCartney’?"
   ]
  },
  {
   "cell_type": "code",
   "execution_count": 32,
   "metadata": {},
   "outputs": [
    {
     "data": {
      "text/plain": [
       "Int64Index([53028], dtype='int64')"
      ]
     },
     "execution_count": 32,
     "metadata": {},
     "output_type": "execute_result"
    }
   ],
   "source": [
    "people[people['name'] == 'Paul McCartney'].index"
   ]
  },
  {
   "cell_type": "code",
   "execution_count": 33,
   "metadata": {
    "collapsed": true
   },
   "outputs": [],
   "source": [
    "McCartney_tf_idf = tfidf_matrix[53028,:]"
   ]
  },
  {
   "cell_type": "code",
   "execution_count": 34,
   "metadata": {},
   "outputs": [
    {
     "name": "stdout",
     "output_type": "stream",
     "text": [
      "answer:cosine distance between the articles on Elton John and Paul McCartney 0.692313247869\n"
     ]
    }
   ],
   "source": [
    "print ('answer:cosine distance between the articles on Elton John and Paul McCartney', cosine_distance(John_tf_idf, McCartney_tf_idf))"
   ]
  },
  {
   "cell_type": "markdown",
   "metadata": {},
   "source": [
    "Building nearest neighbors models with different input features and setting the distance metric: In the sample notebook, we built a nearest neighbors model for retrieving articles using TF-IDF as features and using the default setting in the construction of the nearest neighbors model. Now, you will build two nearest neighbors models:"
   ]
  },
  {
   "cell_type": "markdown",
   "metadata": {},
   "source": [
    "Using word counts as features\n",
    "Using TF-IDF as features"
   ]
  },
  {
   "cell_type": "markdown",
   "metadata": {},
   "source": [
    "In both of these models, we are going to set the distance function to cosine similarity. Here is how: when you call the function"
   ]
  },
  {
   "cell_type": "code",
   "execution_count": 35,
   "metadata": {
    "collapsed": true
   },
   "outputs": [],
   "source": [
    "# Using word counts and cosine\n",
    "from sklearn.neighbors import NearestNeighbors\n",
    "x = CountVectorizer().fit_transform(people['text'])\n"
   ]
  },
  {
   "cell_type": "code",
   "execution_count": 36,
   "metadata": {},
   "outputs": [
    {
     "data": {
      "text/plain": [
       "NearestNeighbors(algorithm='auto', leaf_size=30, metric='cosine',\n",
       "         metric_params=None, n_jobs=1, n_neighbors=5, p=2, radius=1.0)"
      ]
     },
     "execution_count": 36,
     "metadata": {},
     "output_type": "execute_result"
    }
   ],
   "source": [
    "model_count = NearestNeighbors(metric='cosine')\n",
    "model_count.fit(x)"
   ]
  },
  {
   "cell_type": "markdown",
   "metadata": {
    "collapsed": true
   },
   "source": [
    "What’s the most similar article, other than itself, to the one on ‘Elton John’ using word count features?"
   ]
  },
  {
   "cell_type": "code",
   "execution_count": 39,
   "metadata": {},
   "outputs": [],
   "source": [
    "distances, indices = model_count.kneighbors(x[19923], n_neighbors=2) # 1st arg: word count vector"
   ]
  },
  {
   "cell_type": "code",
   "execution_count": 40,
   "metadata": {},
   "outputs": [
    {
     "data": {
      "text/plain": [
       "(array([[  2.44249065e-15,   1.68779169e-01]]), array([[19923, 41668]]))"
      ]
     },
     "execution_count": 40,
     "metadata": {},
     "output_type": "execute_result"
    }
   ],
   "source": [
    "distances, indices"
   ]
  },
  {
   "cell_type": "code",
   "execution_count": 41,
   "metadata": {
    "collapsed": true
   },
   "outputs": [],
   "source": [
    "neighbors_John = pd.DataFrame({'distance':distances[0].tolist(), 'id':indices[0].tolist()})"
   ]
  },
  {
   "cell_type": "code",
   "execution_count": 42,
   "metadata": {},
   "outputs": [
    {
     "data": {
      "text/html": [
       "<div>\n",
       "<style scoped>\n",
       "    .dataframe tbody tr th:only-of-type {\n",
       "        vertical-align: middle;\n",
       "    }\n",
       "\n",
       "    .dataframe tbody tr th {\n",
       "        vertical-align: top;\n",
       "    }\n",
       "\n",
       "    .dataframe thead th {\n",
       "        text-align: right;\n",
       "    }\n",
       "</style>\n",
       "<table border=\"1\" class=\"dataframe\">\n",
       "  <thead>\n",
       "    <tr style=\"text-align: right;\">\n",
       "      <th></th>\n",
       "      <th>distance</th>\n",
       "      <th>id</th>\n",
       "    </tr>\n",
       "  </thead>\n",
       "  <tbody>\n",
       "    <tr>\n",
       "      <td>0</td>\n",
       "      <td>2.442491e-15</td>\n",
       "      <td>19923</td>\n",
       "    </tr>\n",
       "    <tr>\n",
       "      <td>1</td>\n",
       "      <td>1.687792e-01</td>\n",
       "      <td>41668</td>\n",
       "    </tr>\n",
       "  </tbody>\n",
       "</table>\n",
       "</div>"
      ],
      "text/plain": [
       "       distance     id\n",
       "0  2.442491e-15  19923\n",
       "1  1.687792e-01  41668"
      ]
     },
     "execution_count": 42,
     "metadata": {},
     "output_type": "execute_result"
    }
   ],
   "source": [
    "neighbors_John"
   ]
  },
  {
   "cell_type": "code",
   "execution_count": 46,
   "metadata": {},
   "outputs": [
    {
     "data": {
      "text/plain": [
       "'Cliff Richard'"
      ]
     },
     "execution_count": 46,
     "metadata": {},
     "output_type": "execute_result"
    }
   ],
   "source": [
    "people.iloc[41668]['name']"
   ]
  },
  {
   "cell_type": "code",
   "execution_count": 47,
   "metadata": {},
   "outputs": [
    {
     "name": "stdout",
     "output_type": "stream",
     "text": [
      "answer: the most similar article to Elton John using word count is Cliff Richard\n"
     ]
    }
   ],
   "source": [
    "print('answer: the most similar article to Elton John using word count is Cliff Richard')"
   ]
  },
  {
   "cell_type": "markdown",
   "metadata": {},
   "source": [
    "What’s the most similar article, other than itself, to the one on ‘Elton John’ using TF-IDF features?"
   ]
  },
  {
   "cell_type": "code",
   "execution_count": 48,
   "metadata": {},
   "outputs": [
    {
     "data": {
      "text/plain": [
       "NearestNeighbors(algorithm='auto', leaf_size=30, metric='cosine',\n",
       "         metric_params=None, n_jobs=1, n_neighbors=5, p=2, radius=1.0)"
      ]
     },
     "execution_count": 48,
     "metadata": {},
     "output_type": "execute_result"
    }
   ],
   "source": [
    "model_tf_idf = NearestNeighbors(metric='cosine')\n",
    "model_tf_idf.fit(tfidf_matrix)"
   ]
  },
  {
   "cell_type": "code",
   "execution_count": 58,
   "metadata": {},
   "outputs": [],
   "source": [
    "distances, indices = model_tf_idf.kneighbors(tfidf_matrix[19923,:], n_neighbors=2)"
   ]
  },
  {
   "cell_type": "code",
   "execution_count": 59,
   "metadata": {},
   "outputs": [
    {
     "data": {
      "text/html": [
       "<div>\n",
       "<style scoped>\n",
       "    .dataframe tbody tr th:only-of-type {\n",
       "        vertical-align: middle;\n",
       "    }\n",
       "\n",
       "    .dataframe tbody tr th {\n",
       "        vertical-align: top;\n",
       "    }\n",
       "\n",
       "    .dataframe thead th {\n",
       "        text-align: right;\n",
       "    }\n",
       "</style>\n",
       "<table border=\"1\" class=\"dataframe\">\n",
       "  <thead>\n",
       "    <tr style=\"text-align: right;\">\n",
       "      <th></th>\n",
       "      <th>distance</th>\n",
       "      <th>id</th>\n",
       "    </tr>\n",
       "  </thead>\n",
       "  <tbody>\n",
       "    <tr>\n",
       "      <td>0</td>\n",
       "      <td>0.000000</td>\n",
       "      <td>19923</td>\n",
       "    </tr>\n",
       "    <tr>\n",
       "      <td>1</td>\n",
       "      <td>0.589361</td>\n",
       "      <td>28825</td>\n",
       "    </tr>\n",
       "  </tbody>\n",
       "</table>\n",
       "</div>"
      ],
      "text/plain": [
       "   distance     id\n",
       "0  0.000000  19923\n",
       "1  0.589361  28825"
      ]
     },
     "execution_count": 59,
     "metadata": {},
     "output_type": "execute_result"
    }
   ],
   "source": [
    "neighbors_John_tf = pd.DataFrame({'distance':distances[0].tolist(), 'id':indices[0].tolist()})\n",
    "neighbors_John_tf"
   ]
  },
  {
   "cell_type": "code",
   "execution_count": 61,
   "metadata": {},
   "outputs": [
    {
     "name": "stdout",
     "output_type": "stream",
     "text": [
      "answer: the most similar article to Elton John using tf idf is Rod Stewart\n"
     ]
    }
   ],
   "source": [
    "print('answer: the most similar article to Elton John using tf idf is', people.iloc[28825]['name'])"
   ]
  },
  {
   "cell_type": "markdown",
   "metadata": {
    "collapsed": true
   },
   "source": [
    "What’s the most similar article, other than itself, to the one on ‘Victoria Beckham’ using word count features?"
   ]
  },
  {
   "cell_type": "code",
   "execution_count": 63,
   "metadata": {},
   "outputs": [
    {
     "data": {
      "text/plain": [
       "Int64Index([50411], dtype='int64')"
      ]
     },
     "execution_count": 63,
     "metadata": {},
     "output_type": "execute_result"
    }
   ],
   "source": [
    "people[people['name']=='Victoria Beckham'].index"
   ]
  },
  {
   "cell_type": "code",
   "execution_count": 64,
   "metadata": {},
   "outputs": [
    {
     "data": {
      "text/html": [
       "<div>\n",
       "<style scoped>\n",
       "    .dataframe tbody tr th:only-of-type {\n",
       "        vertical-align: middle;\n",
       "    }\n",
       "\n",
       "    .dataframe tbody tr th {\n",
       "        vertical-align: top;\n",
       "    }\n",
       "\n",
       "    .dataframe thead th {\n",
       "        text-align: right;\n",
       "    }\n",
       "</style>\n",
       "<table border=\"1\" class=\"dataframe\">\n",
       "  <thead>\n",
       "    <tr style=\"text-align: right;\">\n",
       "      <th></th>\n",
       "      <th>distance</th>\n",
       "      <th>id</th>\n",
       "    </tr>\n",
       "  </thead>\n",
       "  <tbody>\n",
       "    <tr>\n",
       "      <td>0</td>\n",
       "      <td>3.330669e-16</td>\n",
       "      <td>50411</td>\n",
       "    </tr>\n",
       "    <tr>\n",
       "      <td>1</td>\n",
       "      <td>2.115428e-01</td>\n",
       "      <td>669</td>\n",
       "    </tr>\n",
       "  </tbody>\n",
       "</table>\n",
       "</div>"
      ],
      "text/plain": [
       "       distance     id\n",
       "0  3.330669e-16  50411\n",
       "1  2.115428e-01    669"
      ]
     },
     "execution_count": 64,
     "metadata": {},
     "output_type": "execute_result"
    }
   ],
   "source": [
    "distances, indices = model_count.kneighbors(x[50411], n_neighbors=2) # 1st arg: word count vector\n",
    "neighbors_Beckham = pd.DataFrame({'distance':distances[0].tolist(), 'id':indices[0].tolist()})\n",
    "neighbors_Beckham"
   ]
  },
  {
   "cell_type": "code",
   "execution_count": 65,
   "metadata": {},
   "outputs": [
    {
     "name": "stdout",
     "output_type": "stream",
     "text": [
      "answer: the most similar article to Beckham using word count is Mary Fitzgerald (artist)\n"
     ]
    }
   ],
   "source": [
    "print('answer: the most similar article to Beckham using word count is', people.iloc[669]['name'])"
   ]
  },
  {
   "cell_type": "markdown",
   "metadata": {},
   "source": [
    "What’s the most similar article, other than itself, to the one on ‘Victoria Beckham’ using TF-IDF features?"
   ]
  },
  {
   "cell_type": "code",
   "execution_count": 66,
   "metadata": {},
   "outputs": [
    {
     "data": {
      "text/html": [
       "<div>\n",
       "<style scoped>\n",
       "    .dataframe tbody tr th:only-of-type {\n",
       "        vertical-align: middle;\n",
       "    }\n",
       "\n",
       "    .dataframe tbody tr th {\n",
       "        vertical-align: top;\n",
       "    }\n",
       "\n",
       "    .dataframe thead th {\n",
       "        text-align: right;\n",
       "    }\n",
       "</style>\n",
       "<table border=\"1\" class=\"dataframe\">\n",
       "  <thead>\n",
       "    <tr style=\"text-align: right;\">\n",
       "      <th></th>\n",
       "      <th>distance</th>\n",
       "      <th>id</th>\n",
       "    </tr>\n",
       "  </thead>\n",
       "  <tbody>\n",
       "    <tr>\n",
       "      <td>0</td>\n",
       "      <td>0.000000</td>\n",
       "      <td>50411</td>\n",
       "    </tr>\n",
       "    <tr>\n",
       "      <td>1</td>\n",
       "      <td>0.546477</td>\n",
       "      <td>23386</td>\n",
       "    </tr>\n",
       "  </tbody>\n",
       "</table>\n",
       "</div>"
      ],
      "text/plain": [
       "   distance     id\n",
       "0  0.000000  50411\n",
       "1  0.546477  23386"
      ]
     },
     "execution_count": 66,
     "metadata": {},
     "output_type": "execute_result"
    }
   ],
   "source": [
    "distances, indices = model_tf_idf.kneighbors(tfidf_matrix[50411,:], n_neighbors=2)\n",
    "neighbors_Beckham_tf = pd.DataFrame({'distance':distances[0].tolist(), 'id':indices[0].tolist()})\n",
    "neighbors_Beckham_tf"
   ]
  },
  {
   "cell_type": "code",
   "execution_count": 67,
   "metadata": {},
   "outputs": [
    {
     "name": "stdout",
     "output_type": "stream",
     "text": [
      "answer: the most similar article to Beckham using word count is David Beckham\n"
     ]
    }
   ],
   "source": [
    "print('answer: the most similar article to Beckham using word count is', people.iloc[23386]['name'])"
   ]
  },
  {
   "cell_type": "code",
   "execution_count": null,
   "metadata": {
    "collapsed": true
   },
   "outputs": [],
   "source": []
  },
  {
   "cell_type": "code",
   "execution_count": null,
   "metadata": {
    "collapsed": true
   },
   "outputs": [],
   "source": []
  }
 ],
 "metadata": {
  "kernelspec": {
   "display_name": "Python 3",
   "language": "python",
   "name": "python3"
  },
  "language_info": {
   "codemirror_mode": {
    "name": "ipython",
    "version": 3
   },
   "file_extension": ".py",
   "mimetype": "text/x-python",
   "name": "python",
   "nbconvert_exporter": "python",
   "pygments_lexer": "ipython3",
   "version": "3.6.3"
  }
 },
 "nbformat": 4,
 "nbformat_minor": 1
}
