{
 "cells": [
  {
   "cell_type": "markdown",
   "metadata": {},
   "source": [
    "# Regression Week 5: Feature Selection and LASSO (Interpretation)"
   ]
  },
  {
   "cell_type": "markdown",
   "metadata": {},
   "source": [
    "In this notebook, you will use LASSO to select features, building on a pre-implemented solver for LASSO (using scikit-learn). You will:\n",
    "* Run LASSO with different L1 penalties.\n",
    "* Choose best L1 penalty using a validation set.\n",
    "* Choose best L1 penalty using a validation set, with additional constraint on the size of subset.\n",
    "\n",
    "In the second notebook, you will implement your own LASSO solver, using coordinate descent. "
   ]
  },
  {
   "cell_type": "markdown",
   "metadata": {},
   "source": [
    "# Fire up pandas, numpy and sklearn"
   ]
  },
  {
   "cell_type": "code",
   "execution_count": 4,
   "metadata": {
    "collapsed": true
   },
   "outputs": [],
   "source": [
    "import pandas as pd\n",
    "import numpy as np\n",
    "from sklearn import datasets, linear_model\n",
    "from math import log"
   ]
  },
  {
   "cell_type": "markdown",
   "metadata": {},
   "source": [
    "# Load in house sales data"
   ]
  },
  {
   "cell_type": "code",
   "execution_count": 6,
   "metadata": {},
   "outputs": [],
   "source": [
    "# Load all dataset\n",
    "sales = pd.read_csv('kc_house_data.csv')"
   ]
  },
  {
   "cell_type": "markdown",
   "metadata": {
    "collapsed": true
   },
   "source": [
    "# Create new features"
   ]
  },
  {
   "cell_type": "markdown",
   "metadata": {},
   "source": [
    "Create new features by performing following transformation on inputs:"
   ]
  },
  {
   "cell_type": "code",
   "execution_count": 8,
   "metadata": {
    "collapsed": true
   },
   "outputs": [],
   "source": [
    "from math import log, sqrt\n",
    "sales['sqft_living_sqrt'] = sales['sqft_living'].apply(sqrt)\n",
    "sales['sqft_lot_sqrt'] = sales['sqft_lot'].apply(sqrt)\n",
    "sales['bedrooms_square'] = sales['bedrooms']*sales['bedrooms']\n",
    "sales['floors_square'] = sales['floors']*sales['floors']"
   ]
  },
  {
   "cell_type": "code",
   "execution_count": 10,
   "metadata": {},
   "outputs": [
    {
     "data": {
      "text/plain": [
       "dtype('float64')"
      ]
     },
     "execution_count": 10,
     "metadata": {},
     "output_type": "execute_result"
    }
   ],
   "source": [
    "sales['floors_square'].dtype"
   ]
  },
  {
   "cell_type": "markdown",
   "metadata": {},
   "source": [
    "*Squaring bedrooms will increase the separation between not many bedrooms (e.g. 1) and lots of bedrooms (e.g. 4) since 1^2 = 1 but 4^2 = 16. Consequently this variable will mostly affect houses with many bedrooms.\n",
    "\n",
    "*On the other hand, taking square root of sqft_living will decrease the separation between big house and small house. The owner may not be exactly twice as happy for getting a house that is twice as big."
   ]
  },
  {
   "cell_type": "markdown",
   "metadata": {},
   "source": [
    "2.. Using the entire house dataset, learn regression weights using an L1 penalty of 5e2. Make sure to add \"normalize=True\" when creating the Lasso object. Refer to the following code snippet for the list of features.\n",
    "\n",
    "Note. From here on, the list 'all_features' refers to the list defined in this snippet."
   ]
  },
  {
   "cell_type": "code",
   "execution_count": 11,
   "metadata": {},
   "outputs": [
    {
     "data": {
      "text/plain": [
       "Lasso(alpha=500.0, copy_X=True, fit_intercept=True, max_iter=1000,\n",
       "   normalize=True, positive=False, precompute=False, random_state=None,\n",
       "   selection='cyclic', tol=0.0001, warm_start=False)"
      ]
     },
     "execution_count": 11,
     "metadata": {},
     "output_type": "execute_result"
    }
   ],
   "source": [
    "all_features = ['bedrooms', 'bedrooms_square',\n",
    "            'bathrooms',\n",
    "            'sqft_living', 'sqft_living_sqrt',\n",
    "            'sqft_lot', 'sqft_lot_sqrt',\n",
    "            'floors', 'floors_square',\n",
    "            'waterfront', 'view', 'condition', 'grade',\n",
    "            'sqft_above',\n",
    "            'sqft_basement',\n",
    "            'yr_built', 'yr_renovated']\n",
    "\n",
    "model_all = linear_model.Lasso(alpha=5e2, normalize=True) # set parameters\n",
    "model_all.fit(sales[all_features], sales['price']) # learn weights"
   ]
  },
  {
   "cell_type": "markdown",
   "metadata": {},
   "source": [
    "3.. Quiz Question: Which features have been chosen by LASSO, i.e. which features were assigned nonzero weights?"
   ]
  },
  {
   "cell_type": "code",
   "execution_count": 12,
   "metadata": {},
   "outputs": [
    {
     "data": {
      "text/plain": [
       "array([     0.        ,      0.        ,      0.        ,    134.43931396,\n",
       "            0.        ,      0.        ,      0.        ,      0.        ,\n",
       "            0.        ,      0.        ,  24750.00458561,      0.        ,\n",
       "        61749.10309071,      0.        ,      0.        ,     -0.        ,\n",
       "            0.        ])"
      ]
     },
     "execution_count": 12,
     "metadata": {},
     "output_type": "execute_result"
    }
   ],
   "source": [
    "model_all.coef_"
   ]
  },
  {
   "cell_type": "markdown",
   "metadata": {},
   "source": [
    "Quiz Answer: 'sqft_living', 'view', 'grade'\n"
   ]
  },
  {
   "cell_type": "code",
   "execution_count": 13,
   "metadata": {
    "collapsed": true
   },
   "outputs": [],
   "source": [
    "testing = pd.read_csv('wk3_kc_house_test_data.csv')\n",
    "training = pd.read_csv('wk3_kc_house_train_data.csv')\n",
    "validation = pd.read_csv('wk3_kc_house_valid_data.csv')"
   ]
  },
  {
   "cell_type": "markdown",
   "metadata": {},
   "source": [
    "Make sure to create the 4 features as we did in #1:"
   ]
  },
  {
   "cell_type": "code",
   "execution_count": 14,
   "metadata": {
    "collapsed": true
   },
   "outputs": [],
   "source": [
    "testing['sqft_living_sqrt'] = testing['sqft_living'].apply(sqrt)\n",
    "testing['sqft_lot_sqrt'] = testing['sqft_lot'].apply(sqrt)\n",
    "testing['bedrooms_square'] = testing['bedrooms']*testing['bedrooms']\n",
    "testing['floors_square'] = testing['floors']*testing['floors']\n",
    "\n",
    "training['sqft_living_sqrt'] = training['sqft_living'].apply(sqrt)\n",
    "training['sqft_lot_sqrt'] = training['sqft_lot'].apply(sqrt)\n",
    "training['bedrooms_square'] = training['bedrooms']*training['bedrooms']\n",
    "training['floors_square'] = training['floors']*training['floors']\n",
    "\n",
    "validation['sqft_living_sqrt'] = validation['sqft_living'].apply(sqrt)\n",
    "validation['sqft_lot_sqrt'] = validation['sqft_lot'].apply(sqrt)\n",
    "validation['bedrooms_square'] = validation['bedrooms']*validation['bedrooms']\n",
    "validation['floors_square'] = validation['floors']*validation['floors']"
   ]
  },
  {
   "cell_type": "markdown",
   "metadata": {},
   "source": [
    "5.. Now for each l1_penalty in [10^1, 10^1.5, 10^2, 10^2.5, ..., 10^7] (to get this in Python, type np.logspace(1, 7, num=13).)\n",
    "\n",
    "~Learn a model on TRAINING data using the specified l1_penalty. Make sure to specify normalize=True in the constructor:\n",
    "\n",
    "~Compute the RSS on VALIDATION for the current model (print or save the RSS)\n",
    "\n",
    "~Report which L1 penalty produced the lower RSS on VALIDATION."
   ]
  },
  {
   "cell_type": "code",
   "execution_count": 26,
   "metadata": {},
   "outputs": [
    {
     "name": "stdout",
     "output_type": "stream",
     "text": [
      "3.982133273e+14\n",
      "10.0\n",
      "3.99041900253e+14\n",
      "31.6227766017\n",
      "4.29791604073e+14\n",
      "100.0\n",
      "4.63739831045e+14\n",
      "316.227766017\n",
      "6.45898733634e+14\n",
      "1000.0\n",
      "1.22250685943e+15\n",
      "3162.27766017\n",
      "1.22250685943e+15\n",
      "10000.0\n",
      "1.22250685943e+15\n",
      "31622.7766017\n",
      "1.22250685943e+15\n",
      "100000.0\n",
      "1.22250685943e+15\n",
      "316227.766017\n",
      "1.22250685943e+15\n",
      "1000000.0\n",
      "1.22250685943e+15\n",
      "3162277.66017\n",
      "1.22250685943e+15\n",
      "10000000.0\n"
     ]
    },
    {
     "data": {
      "text/plain": [
       "398213327300134.94"
      ]
     },
     "execution_count": 26,
     "metadata": {},
     "output_type": "execute_result"
    }
   ],
   "source": [
    "RSS = []\n",
    "for l1_penalty in np.logspace(1, 7, num=13):\n",
    "    # Learn a model on TRAINING data using the specified l1_penalty.\n",
    "    model = linear_model.Lasso(alpha=l1_penalty, normalize=True)\n",
    "    model_1 = model.fit(training[all_features], training['price'])\n",
    "    # Predit price based on model_1 and valication data\n",
    "    valid_prediction = model_1.predict(validation[all_features])\n",
    "    # Calculate erros\n",
    "    valid_errors = valid_prediction - validation['price']\n",
    "    # Calculate RSS\n",
    "    valid_RSS = (valid_errors * valid_errors).sum()\n",
    "    RSS.append(valid_RSS)\n",
    "    print(valid_RSS)\n",
    "    print(l1_penalty)\n",
    "min(RSS)"
   ]
  },
  {
   "cell_type": "markdown",
   "metadata": {},
   "source": [
    "6.. Quiz Question: Which was the best value for the l1_penalty, i.e. which value of l1_penalty produced the lowest RSS on VALIDATION data?\n",
    "\n",
    "Answer: 10"
   ]
  },
  {
   "cell_type": "markdown",
   "metadata": {},
   "source": [
    "7.. Now that you have selected an L1 penalty, compute the RSS on TEST data for the model with the best L1 penalty."
   ]
  },
  {
   "cell_type": "code",
   "execution_count": 28,
   "metadata": {},
   "outputs": [
    {
     "data": {
      "text/plain": [
       "98467402552698.797"
      ]
     },
     "execution_count": 28,
     "metadata": {},
     "output_type": "execute_result"
    }
   ],
   "source": [
    "l1_penalty = 10\n",
    "model = linear_model.Lasso(alpha=l1_penalty, normalize=True)\n",
    "model_2 = model.fit(training[all_features], training['price'])\n",
    "# Predit price based on model_1 and valication data\n",
    "test_prediction = model_2.predict(testing[all_features])\n",
    "# Calculate erros\n",
    "test_errors = test_prediction - testing['price']\n",
    "# Calculate RSS\n",
    "test_RSS = (test_errors * test_errors).sum()\n",
    "test_RSS"
   ]
  },
  {
   "cell_type": "markdown",
   "metadata": {},
   "source": [
    "8.. Quiz Question: Using the best L1 penalty, how many nonzero weights do you have? Count the number of nonzero coefficients first, and add 1 if the intercept is also nonzero. A succinct way to do this is"
   ]
  },
  {
   "cell_type": "code",
   "execution_count": 29,
   "metadata": {},
   "outputs": [
    {
     "data": {
      "text/plain": [
       "15"
      ]
     },
     "execution_count": 29,
     "metadata": {},
     "output_type": "execute_result"
    }
   ],
   "source": [
    "np.count_nonzero(model_2.coef_) + np.count_nonzero(model_2.intercept_)"
   ]
  },
  {
   "cell_type": "markdown",
   "metadata": {},
   "source": [
    "# Limit the number of nonzero weights"
   ]
  },
  {
   "cell_type": "markdown",
   "metadata": {},
   "source": [
    "9.. What if we absolutely wanted to limit ourselves to, say, 7 features? This may be important if we want to derive \"a rule of thumb\" --- an interpretable model that has only a few features in them.\n",
    "\n",
    "You are going to implement a simple, two phase procedure to achieve this goal:\n",
    "    \n",
    "~Explore a large range of ‘l1_penalty’ values to find a narrow region of ‘l1_penalty’ values where models are likely to have the desired number of non-zero weights.\n",
    "\n",
    "~Further explore the narrow region you found to find a good value for ‘l1_penalty’ that achieves the desired sparsity. Here, we will again use a validation set to choose the best value for ‘l1_penalty’."
   ]
  },
  {
   "cell_type": "markdown",
   "metadata": {},
   "source": [
    "10.. Assign 7 to the variable ‘max_nonzeros’."
   ]
  },
  {
   "cell_type": "code",
   "execution_count": 30,
   "metadata": {
    "collapsed": true
   },
   "outputs": [],
   "source": [
    "max_nonzeros = 7"
   ]
  },
  {
   "cell_type": "markdown",
   "metadata": {},
   "source": [
    "## Exploring the larger range of values to find a narrow range with the desired sparsity"
   ]
  },
  {
   "cell_type": "markdown",
   "metadata": {},
   "source": [
    "11.. Exploring large range of l1_penalty\n",
    "\n",
    "For l1_penalty in np.logspace(1, 4, num=20):\n",
    "\n",
    "Fit a regression model with a given l1_penalty on TRAIN data. Add \"alpha=l1_penalty\" and \"normalize=True\" to the parameter list.\n",
    "\n",
    "Extract the weights of the model and count the number of nonzeros. Take account of the intercept as we did in #8, adding 1 whenever the intercept is nonzero. Save the number of nonzeros to a list."
   ]
  },
  {
   "cell_type": "code",
   "execution_count": 32,
   "metadata": {},
   "outputs": [
    {
     "data": {
      "text/plain": [
       "[15, 15, 15, 15, 13, 12, 11, 10, 7, 6, 6, 6, 5, 3, 3, 2, 1, 1, 1, 1]"
      ]
     },
     "execution_count": 32,
     "metadata": {},
     "output_type": "execute_result"
    }
   ],
   "source": [
    "num = []\n",
    "for l1_penalty in np.logspace(1, 4, num=20):\n",
    "    # Learn a model on TRAINING data using the specified l1_penalty.\n",
    "    model = linear_model.Lasso(alpha=l1_penalty, normalize=True)\n",
    "    model_3 = model.fit(training[all_features], training['price'])\n",
    "    nonzeros = np.count_nonzero(model_3.coef_) + np.count_nonzero(model_3.intercept_)\n",
    "    num.append(nonzeros)\n",
    "num"
   ]
  },
  {
   "cell_type": "code",
   "execution_count": 33,
   "metadata": {},
   "outputs": [
    {
     "data": {
      "text/plain": [
       "array([    10.        ,     14.38449888,     20.69138081,     29.76351442,\n",
       "           42.81332399,     61.58482111,     88.58667904,    127.42749857,\n",
       "          183.29807108,    263.66508987,    379.26901907,    545.55947812,\n",
       "          784.75997035,   1128.83789168,   1623.77673919,   2335.72146909,\n",
       "         3359.81828628,   4832.93023857,   6951.92796178,  10000.        ])"
      ]
     },
     "execution_count": 33,
     "metadata": {},
     "output_type": "execute_result"
    }
   ],
   "source": [
    "np.logspace(1, 4, num=20)"
   ]
  },
  {
   "cell_type": "markdown",
   "metadata": {},
   "source": [
    "12.. Out of this large range, we want to find the two ends of our desired narrow range of l1_penalty. At one end, we will have l1_penalty values that have too few non-zeros, and at the other end, we will have an l1_penalty that has too many non-zeros.\n",
    "\n",
    "More formally, find:"
   ]
  },
  {
   "cell_type": "markdown",
   "metadata": {},
   "source": [
    "The largest l1_penalty that has more non-zeros than ‘max_nonzeros’ (if we pick a penalty smaller than this value, we will definitely have too many non-zero weights)Store this value in the variable ‘l1_penalty_min’ (we will use it later)\n",
    "\n",
    "The smallest l1_penalty that has fewer non-zeros than ‘max_nonzeros’ (if we pick a penalty larger than this value, we will definitely have too few non-zero weights)Store this value in the variable ‘l1_penalty_max’ (we will use it later)"
   ]
  },
  {
   "cell_type": "markdown",
   "metadata": {},
   "source": [
    "Hint: there are many ways to do this, e.g.:\n",
    "\n",
    "Programmatically within the loop above\n",
    "Creating a list with the number of non-zeros for each value of l1_penalty and inspecting it to find the appropriate boundaries."
   ]
  },
  {
   "cell_type": "markdown",
   "metadata": {},
   "source": [
    "Answer:\n",
    "#the largest l1_penalty: l1_penalty_min = 127.42749857\n",
    "#the smallest l1_penalty:  l1_penalty_max = 263.66508987"
   ]
  },
  {
   "cell_type": "markdown",
   "metadata": {},
   "source": [
    "14.. Exploring narrower range of l1_penalty\n",
    "\n",
    "We now explore the region of l1_penalty we found: between ‘l1_penalty_min’ and ‘l1_penalty_max’. We look for the L1 penalty in this range that produces exactly the right number of nonzeros and also minimizes RSS on the VALIDATION set.\n",
    "\n",
    "For l1_penalty in np.linspace(l1_penalty_min,l1_penalty_max,20):\n",
    "\n",
    "Fit a regression model with a given l1_penalty on TRAIN data. As before, use \"alpha=l1_penalty\" and \"normalize=True\".\n",
    "Measure the RSS of the learned model on the VALIDATION set\n",
    "Find the model that the lowest RSS on the VALIDATION set and has sparsity equal to ‘max_nonzeros’. (Again, take account of the intercept when counting the number of nonzeros.)"
   ]
  },
  {
   "cell_type": "code",
   "execution_count": 44,
   "metadata": {},
   "outputs": [
    {
     "name": "stdout",
     "output_type": "stream",
     "text": [
      "[127.42749857, 134.59789811210527, 141.76829765421053, 148.93869719631579, 156.10909673842104, 163.2794962805263, 170.44989582263156, 177.62029536473682, 184.79069490684208, 191.96109444894734, 199.13149399105259, 206.30189353315785, 213.47229307526311, 220.64269261736837, 227.81309215947365, 234.98349170157891, 242.15389124368417, 249.32429078578943, 256.49469032789472, 263.66508986999997]\n",
      "[10, 10, 8, 8, 7, 7, 7, 7, 7, 7, 7, 6, 6, 6, 6, 6, 6, 6, 6, 6]\n",
      "[435374677102611.62, 437009229124363.88, 438236128386837.94, 439158937799561.0, 440037365263228.5, 440777489641495.5, 441566698090006.62, 442406413188507.38, 443296716874128.62, 444239780525925.75, 445230739842366.81, 446268896864489.31, 447112919434395.5, 447998187851290.0, 448924706672948.69, 449892475899371.5, 450901498777749.0, 451952426654576.5, 453043924367150.56, 454176669662146.88]\n"
     ]
    }
   ],
   "source": [
    "l1_penalty_min = 127.42749857\n",
    "l1_penalty_max = 263.66508987\n",
    "sparsity = []\n",
    "Valid_RSS = []\n",
    "l1_penalty_list =[]\n",
    "for l1_penalty in np.linspace(l1_penalty_min,l1_penalty_max,20):\n",
    "    #print(l1_penalty)\n",
    "    l1_penalty_list.append(l1_penalty)\n",
    "    # Learn a model on TRAINING data using the specified l1_penalty.\n",
    "    model = linear_model.Lasso(alpha=l1_penalty, normalize=True)\n",
    "    model_4 = model.fit(training[all_features], training['price'])\n",
    "    nonzeros = np.count_nonzero(model_4.coef_) + np.count_nonzero(model_4.intercept_)\n",
    "    sparsity.append(nonzeros)\n",
    "    # Predit price based on model_4 and validation data\n",
    "    valid_prediction = model_4.predict(validation[all_features])\n",
    "    # Calculate erros\n",
    "    valid_errors = valid_prediction - validation['price']\n",
    "    # Calculate RSS\n",
    "    RSS_v = (valid_errors * valid_errors).sum()\n",
    "    Valid_RSS.append(RSS_v)\n",
    "print(l1_penalty_list)\n",
    "print(sparsity)\n",
    "print(Valid_RSS)"
   ]
  },
  {
   "cell_type": "code",
   "execution_count": 48,
   "metadata": {},
   "outputs": [
    {
     "data": {
      "text/html": [
       "<div>\n",
       "<style scoped>\n",
       "    .dataframe tbody tr th:only-of-type {\n",
       "        vertical-align: middle;\n",
       "    }\n",
       "\n",
       "    .dataframe tbody tr th {\n",
       "        vertical-align: top;\n",
       "    }\n",
       "\n",
       "    .dataframe thead th {\n",
       "        text-align: right;\n",
       "    }\n",
       "</style>\n",
       "<table border=\"1\" class=\"dataframe\">\n",
       "  <thead>\n",
       "    <tr style=\"text-align: right;\">\n",
       "      <th></th>\n",
       "      <th>l1_penalty</th>\n",
       "      <th>sparsity</th>\n",
       "      <th>Valid_RSS</th>\n",
       "    </tr>\n",
       "  </thead>\n",
       "  <tbody>\n",
       "    <tr>\n",
       "      <th>0</th>\n",
       "      <td>127.427499</td>\n",
       "      <td>10</td>\n",
       "      <td>4.353747e+14</td>\n",
       "    </tr>\n",
       "    <tr>\n",
       "      <th>1</th>\n",
       "      <td>134.597898</td>\n",
       "      <td>10</td>\n",
       "      <td>4.370092e+14</td>\n",
       "    </tr>\n",
       "    <tr>\n",
       "      <th>2</th>\n",
       "      <td>141.768298</td>\n",
       "      <td>8</td>\n",
       "      <td>4.382361e+14</td>\n",
       "    </tr>\n",
       "    <tr>\n",
       "      <th>3</th>\n",
       "      <td>148.938697</td>\n",
       "      <td>8</td>\n",
       "      <td>4.391589e+14</td>\n",
       "    </tr>\n",
       "    <tr>\n",
       "      <th>4</th>\n",
       "      <td>156.109097</td>\n",
       "      <td>7</td>\n",
       "      <td>4.400374e+14</td>\n",
       "    </tr>\n",
       "    <tr>\n",
       "      <th>5</th>\n",
       "      <td>163.279496</td>\n",
       "      <td>7</td>\n",
       "      <td>4.407775e+14</td>\n",
       "    </tr>\n",
       "    <tr>\n",
       "      <th>6</th>\n",
       "      <td>170.449896</td>\n",
       "      <td>7</td>\n",
       "      <td>4.415667e+14</td>\n",
       "    </tr>\n",
       "    <tr>\n",
       "      <th>7</th>\n",
       "      <td>177.620295</td>\n",
       "      <td>7</td>\n",
       "      <td>4.424064e+14</td>\n",
       "    </tr>\n",
       "    <tr>\n",
       "      <th>8</th>\n",
       "      <td>184.790695</td>\n",
       "      <td>7</td>\n",
       "      <td>4.432967e+14</td>\n",
       "    </tr>\n",
       "    <tr>\n",
       "      <th>9</th>\n",
       "      <td>191.961094</td>\n",
       "      <td>7</td>\n",
       "      <td>4.442398e+14</td>\n",
       "    </tr>\n",
       "    <tr>\n",
       "      <th>10</th>\n",
       "      <td>199.131494</td>\n",
       "      <td>7</td>\n",
       "      <td>4.452307e+14</td>\n",
       "    </tr>\n",
       "    <tr>\n",
       "      <th>11</th>\n",
       "      <td>206.301894</td>\n",
       "      <td>6</td>\n",
       "      <td>4.462689e+14</td>\n",
       "    </tr>\n",
       "    <tr>\n",
       "      <th>12</th>\n",
       "      <td>213.472293</td>\n",
       "      <td>6</td>\n",
       "      <td>4.471129e+14</td>\n",
       "    </tr>\n",
       "    <tr>\n",
       "      <th>13</th>\n",
       "      <td>220.642693</td>\n",
       "      <td>6</td>\n",
       "      <td>4.479982e+14</td>\n",
       "    </tr>\n",
       "    <tr>\n",
       "      <th>14</th>\n",
       "      <td>227.813092</td>\n",
       "      <td>6</td>\n",
       "      <td>4.489247e+14</td>\n",
       "    </tr>\n",
       "    <tr>\n",
       "      <th>15</th>\n",
       "      <td>234.983492</td>\n",
       "      <td>6</td>\n",
       "      <td>4.498925e+14</td>\n",
       "    </tr>\n",
       "    <tr>\n",
       "      <th>16</th>\n",
       "      <td>242.153891</td>\n",
       "      <td>6</td>\n",
       "      <td>4.509015e+14</td>\n",
       "    </tr>\n",
       "    <tr>\n",
       "      <th>17</th>\n",
       "      <td>249.324291</td>\n",
       "      <td>6</td>\n",
       "      <td>4.519524e+14</td>\n",
       "    </tr>\n",
       "    <tr>\n",
       "      <th>18</th>\n",
       "      <td>256.494690</td>\n",
       "      <td>6</td>\n",
       "      <td>4.530439e+14</td>\n",
       "    </tr>\n",
       "    <tr>\n",
       "      <th>19</th>\n",
       "      <td>263.665090</td>\n",
       "      <td>6</td>\n",
       "      <td>4.541767e+14</td>\n",
       "    </tr>\n",
       "  </tbody>\n",
       "</table>\n",
       "</div>"
      ],
      "text/plain": [
       "    l1_penalty  sparsity     Valid_RSS\n",
       "0   127.427499        10  4.353747e+14\n",
       "1   134.597898        10  4.370092e+14\n",
       "2   141.768298         8  4.382361e+14\n",
       "3   148.938697         8  4.391589e+14\n",
       "4   156.109097         7  4.400374e+14\n",
       "5   163.279496         7  4.407775e+14\n",
       "6   170.449896         7  4.415667e+14\n",
       "7   177.620295         7  4.424064e+14\n",
       "8   184.790695         7  4.432967e+14\n",
       "9   191.961094         7  4.442398e+14\n",
       "10  199.131494         7  4.452307e+14\n",
       "11  206.301894         6  4.462689e+14\n",
       "12  213.472293         6  4.471129e+14\n",
       "13  220.642693         6  4.479982e+14\n",
       "14  227.813092         6  4.489247e+14\n",
       "15  234.983492         6  4.498925e+14\n",
       "16  242.153891         6  4.509015e+14\n",
       "17  249.324291         6  4.519524e+14\n",
       "18  256.494690         6  4.530439e+14\n",
       "19  263.665090         6  4.541767e+14"
      ]
     },
     "execution_count": 48,
     "metadata": {},
     "output_type": "execute_result"
    }
   ],
   "source": [
    "df = pd.DataFrame({'l1_penalty':l1_penalty_list,'sparsity':sparsity,'Valid_RSS':Valid_RSS})\n",
    "df"
   ]
  },
  {
   "cell_type": "code",
   "execution_count": 51,
   "metadata": {},
   "outputs": [
    {
     "data": {
      "text/html": [
       "<div>\n",
       "<style scoped>\n",
       "    .dataframe tbody tr th:only-of-type {\n",
       "        vertical-align: middle;\n",
       "    }\n",
       "\n",
       "    .dataframe tbody tr th {\n",
       "        vertical-align: top;\n",
       "    }\n",
       "\n",
       "    .dataframe thead th {\n",
       "        text-align: right;\n",
       "    }\n",
       "</style>\n",
       "<table border=\"1\" class=\"dataframe\">\n",
       "  <thead>\n",
       "    <tr style=\"text-align: right;\">\n",
       "      <th></th>\n",
       "      <th>l1_penalty</th>\n",
       "      <th>sparsity</th>\n",
       "      <th>Valid_RSS</th>\n",
       "    </tr>\n",
       "  </thead>\n",
       "  <tbody>\n",
       "    <tr>\n",
       "      <th>0</th>\n",
       "      <td>127.427499</td>\n",
       "      <td>10</td>\n",
       "      <td>4.353747e+14</td>\n",
       "    </tr>\n",
       "    <tr>\n",
       "      <th>1</th>\n",
       "      <td>134.597898</td>\n",
       "      <td>10</td>\n",
       "      <td>4.370092e+14</td>\n",
       "    </tr>\n",
       "    <tr>\n",
       "      <th>2</th>\n",
       "      <td>141.768298</td>\n",
       "      <td>8</td>\n",
       "      <td>4.382361e+14</td>\n",
       "    </tr>\n",
       "    <tr>\n",
       "      <th>3</th>\n",
       "      <td>148.938697</td>\n",
       "      <td>8</td>\n",
       "      <td>4.391589e+14</td>\n",
       "    </tr>\n",
       "    <tr>\n",
       "      <th>4</th>\n",
       "      <td>156.109097</td>\n",
       "      <td>7</td>\n",
       "      <td>4.400374e+14</td>\n",
       "    </tr>\n",
       "    <tr>\n",
       "      <th>5</th>\n",
       "      <td>163.279496</td>\n",
       "      <td>7</td>\n",
       "      <td>4.407775e+14</td>\n",
       "    </tr>\n",
       "    <tr>\n",
       "      <th>6</th>\n",
       "      <td>170.449896</td>\n",
       "      <td>7</td>\n",
       "      <td>4.415667e+14</td>\n",
       "    </tr>\n",
       "    <tr>\n",
       "      <th>7</th>\n",
       "      <td>177.620295</td>\n",
       "      <td>7</td>\n",
       "      <td>4.424064e+14</td>\n",
       "    </tr>\n",
       "    <tr>\n",
       "      <th>8</th>\n",
       "      <td>184.790695</td>\n",
       "      <td>7</td>\n",
       "      <td>4.432967e+14</td>\n",
       "    </tr>\n",
       "    <tr>\n",
       "      <th>9</th>\n",
       "      <td>191.961094</td>\n",
       "      <td>7</td>\n",
       "      <td>4.442398e+14</td>\n",
       "    </tr>\n",
       "    <tr>\n",
       "      <th>10</th>\n",
       "      <td>199.131494</td>\n",
       "      <td>7</td>\n",
       "      <td>4.452307e+14</td>\n",
       "    </tr>\n",
       "    <tr>\n",
       "      <th>11</th>\n",
       "      <td>206.301894</td>\n",
       "      <td>6</td>\n",
       "      <td>4.462689e+14</td>\n",
       "    </tr>\n",
       "    <tr>\n",
       "      <th>12</th>\n",
       "      <td>213.472293</td>\n",
       "      <td>6</td>\n",
       "      <td>4.471129e+14</td>\n",
       "    </tr>\n",
       "    <tr>\n",
       "      <th>13</th>\n",
       "      <td>220.642693</td>\n",
       "      <td>6</td>\n",
       "      <td>4.479982e+14</td>\n",
       "    </tr>\n",
       "    <tr>\n",
       "      <th>14</th>\n",
       "      <td>227.813092</td>\n",
       "      <td>6</td>\n",
       "      <td>4.489247e+14</td>\n",
       "    </tr>\n",
       "    <tr>\n",
       "      <th>15</th>\n",
       "      <td>234.983492</td>\n",
       "      <td>6</td>\n",
       "      <td>4.498925e+14</td>\n",
       "    </tr>\n",
       "    <tr>\n",
       "      <th>16</th>\n",
       "      <td>242.153891</td>\n",
       "      <td>6</td>\n",
       "      <td>4.509015e+14</td>\n",
       "    </tr>\n",
       "    <tr>\n",
       "      <th>17</th>\n",
       "      <td>249.324291</td>\n",
       "      <td>6</td>\n",
       "      <td>4.519524e+14</td>\n",
       "    </tr>\n",
       "    <tr>\n",
       "      <th>18</th>\n",
       "      <td>256.494690</td>\n",
       "      <td>6</td>\n",
       "      <td>4.530439e+14</td>\n",
       "    </tr>\n",
       "    <tr>\n",
       "      <th>19</th>\n",
       "      <td>263.665090</td>\n",
       "      <td>6</td>\n",
       "      <td>4.541767e+14</td>\n",
       "    </tr>\n",
       "  </tbody>\n",
       "</table>\n",
       "</div>"
      ],
      "text/plain": [
       "    l1_penalty  sparsity     Valid_RSS\n",
       "0   127.427499        10  4.353747e+14\n",
       "1   134.597898        10  4.370092e+14\n",
       "2   141.768298         8  4.382361e+14\n",
       "3   148.938697         8  4.391589e+14\n",
       "4   156.109097         7  4.400374e+14\n",
       "5   163.279496         7  4.407775e+14\n",
       "6   170.449896         7  4.415667e+14\n",
       "7   177.620295         7  4.424064e+14\n",
       "8   184.790695         7  4.432967e+14\n",
       "9   191.961094         7  4.442398e+14\n",
       "10  199.131494         7  4.452307e+14\n",
       "11  206.301894         6  4.462689e+14\n",
       "12  213.472293         6  4.471129e+14\n",
       "13  220.642693         6  4.479982e+14\n",
       "14  227.813092         6  4.489247e+14\n",
       "15  234.983492         6  4.498925e+14\n",
       "16  242.153891         6  4.509015e+14\n",
       "17  249.324291         6  4.519524e+14\n",
       "18  256.494690         6  4.530439e+14\n",
       "19  263.665090         6  4.541767e+14"
      ]
     },
     "execution_count": 51,
     "metadata": {},
     "output_type": "execute_result"
    }
   ],
   "source": [
    "df.sort_values(by=['Valid_RSS'])"
   ]
  },
  {
   "cell_type": "markdown",
   "metadata": {},
   "source": [
    "15.. Quiz Question: What value of l1_penalty in our narrow range has the lowest RSS on the VALIDATION set and has sparsity equal to ‘max_nonzeros’?"
   ]
  },
  {
   "cell_type": "markdown",
   "metadata": {},
   "source": [
    "Answer: 156.109097"
   ]
  },
  {
   "cell_type": "markdown",
   "metadata": {},
   "source": [
    "16.. Quiz Question: What features in this model have non-zero coefficients?"
   ]
  },
  {
   "cell_type": "code",
   "execution_count": 54,
   "metadata": {},
   "outputs": [
    {
     "data": {
      "text/plain": [
       "array([ -0.00000000e+00,  -0.00000000e+00,   1.06108902e+04,\n",
       "         1.63380252e+02,   0.00000000e+00,  -0.00000000e+00,\n",
       "        -0.00000000e+00,   0.00000000e+00,   0.00000000e+00,\n",
       "         5.06451687e+05,   4.19600436e+04,   0.00000000e+00,\n",
       "         1.16253554e+05,   0.00000000e+00,   0.00000000e+00,\n",
       "        -2.61223488e+03,   0.00000000e+00])"
      ]
     },
     "execution_count": 54,
     "metadata": {},
     "output_type": "execute_result"
    }
   ],
   "source": [
    "l1_penalty = 156.109097\n",
    "# Learn a model on TRAINING data using the specified l1_penalty.\n",
    "model = linear_model.Lasso(alpha=l1_penalty, normalize=True)\n",
    "model_5 = model.fit(training[all_features], training['price'])\n",
    "model_5.coef_"
   ]
  },
  {
   "cell_type": "markdown",
   "metadata": {},
   "source": [
    "Answer: feature 3, 4, 10,11,13,16"
   ]
  },
  {
   "cell_type": "code",
   "execution_count": 56,
   "metadata": {},
   "outputs": [
    {
     "data": {
      "text/plain": [
       "['bedrooms',\n",
       " 'bedrooms_square',\n",
       " 'bathrooms',\n",
       " 'sqft_living',\n",
       " 'sqft_living_sqrt',\n",
       " 'sqft_lot',\n",
       " 'sqft_lot_sqrt',\n",
       " 'floors',\n",
       " 'floors_square',\n",
       " 'waterfront',\n",
       " 'view',\n",
       " 'condition',\n",
       " 'grade',\n",
       " 'sqft_above',\n",
       " 'sqft_basement',\n",
       " 'yr_built',\n",
       " 'yr_renovated']"
      ]
     },
     "execution_count": 56,
     "metadata": {},
     "output_type": "execute_result"
    }
   ],
   "source": [
    "all_features"
   ]
  },
  {
   "cell_type": "markdown",
   "metadata": {},
   "source": [
    "Answer:'bathrooms','sqft_living','waterfront','view','grade','yr_built'"
   ]
  }
 ],
 "metadata": {
  "kernelspec": {
   "display_name": "Python 3",
   "language": "python",
   "name": "python3"
  },
  "language_info": {
   "codemirror_mode": {
    "name": "ipython",
    "version": 3
   },
   "file_extension": ".py",
   "mimetype": "text/x-python",
   "name": "python",
   "nbconvert_exporter": "python",
   "pygments_lexer": "ipython3",
   "version": "3.6.3"
  }
 },
 "nbformat": 4,
 "nbformat_minor": 2
}
